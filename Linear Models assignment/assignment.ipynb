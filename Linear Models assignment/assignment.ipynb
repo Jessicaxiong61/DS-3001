{
  "cells": [
    {
      "cell_type": "markdown",
      "id": "e0c7b14a-e5aa-4abc-b48b-b8a9d20dacac",
      "metadata": {
        "id": "e0c7b14a-e5aa-4abc-b48b-b8a9d20dacac"
      },
      "source": [
        "# Assignment: Linear Models\n",
        "## Do three questions.\n",
        "### `! git clone https://github.com/ds4e/linearModels`"
      ]
    },
    {
      "cell_type": "markdown",
      "id": "bf4826b0",
      "metadata": {
        "id": "bf4826b0"
      },
      "source": [
        "**Q1.** Please answer the following questions in your own words.\n",
        "\n",
        "1. What makes a model \"linear\"? \"Linear\" in what?\n",
        "2. How do you interpret the coefficient for a dummy/one-hot-encoded variable? (This is a trick question, and the trick involves how you handle the intercept of the model.)\n",
        "3. Can linear regression be used for classification? Explain why, or why not.\n",
        "4. What are signs that your linear model is over-fitting?\n",
        "5. Clearly explain multi-colinearity using the two-stage least squares technique.\n",
        "6. How can you incorporate nonlinear relationships between your target/response/dependent/outcome variable $y$ and your features/control/response/independent variables $x$ into your analysis?\n",
        "7. What is the interpretation of the intercept? A slope coefficient for a variable? The coefficient for a dummy/one-hot-encoded variable?"
      ]
    },
    {
      "cell_type": "markdown",
      "source": [
        "1. A model is considered \"linear\" when it is linear in its parameters, meaning the model predicts the outcome as a weighted sum of the input features, where the weights (also called coefficients or parameters) appear in a linear way. This doesn't mean the relationship between the input variables and the outcome must form a straight line on a graph—instead, it means the model is structured so that each parameter multiplies a feature or transformed feature, and all those products are added together. For example, we can include squared or log-transformed variables in a linear model, and it would still be considered linear as long as the parameters themselves are not raised to a power, multiplied by each other, or placed inside non-linear functions. So when we say a model is “linear,” we specifically mean it is linear in the parameters used to estimate the outcome.\n",
        "\n",
        "2. The coefficient for a dummy (or one-hot-encoded) variable in a linear model represents the average difference in the outcome between the group identified by that dummy and a baseline group—but this interpretation depends on the presence of the intercept. When we include an intercept in the model (which we usually do), one category from each categorical variable must be left out to avoid multicollinearity (a situation known as the \"dummy variable trap\"). The omitted category becomes the baseline, and the coefficient for each dummy variable tells us how much higher or lower the predicted outcome is for that group compared to the baseline group, holding all other variables constant. If we exclude the intercept, then all categories can be included, and each dummy coefficient reflects the average outcome for that group directly—but this setup is less common and usually less interpretable. So, the \"trick\" is that the interpretation of dummy variable coefficients hinges on whether or not the model includes an intercept.\n",
        "\n",
        "3. Linear regression is not ideal for classification, but it can be used in very limited cases—though it’s generally not recommended. Classification involves predicting discrete class labels (like 0 or 1), whereas linear regression predicts continuous numeric values. If you try to use linear regression for a binary classification problem, you might fit a model that predicts values between 0 and 1, and then you can set a cutoff (like 0.5) to assign a class label. However, this approach has problems: the model can predict values outside the [0,1] range, it's sensitive to outliers, and it doesn't model class probabilities well. More importantly, linear regression doesn't optimize for classification accuracy—it minimizes squared error, not classification error. That’s why logistic regression (and other methods like decision trees or support vector machines) is preferred for classification tasks, because they’re specifically designed to handle categorical outcomes.\n",
        "\n",
        "4. Signs that your linear model is overfitting include high performance on the training data but poor performance on the test or validation data. In other words, the model fits the training data too well, capturing noise or random fluctuations rather than the true underlying pattern. You might see a very low training error but a much higher error when the model is applied to new data. Another sign is when the model has too many features, especially irrelevant ones, which can cause it to become too flexible and sensitive to minor variations. You might also notice unusually large or unstable coefficient estimates, indicating the model is trying too hard to fit every point.\n",
        "\n",
        "5. Multicollinearity occurs when two or more explanatory variables in a regression model are highly correlated, meaning they contain overlapping information about the outcome. This makes it hard for the model to estimate the effect of each variable separately, leading to unstable coefficient estimates and inflated standard errors.\n",
        "\n",
        "To understand this using two-stage least squares (2SLS), imagine we're trying to estimate the effect of an explanatory variable X1 on outcome Y, but X1 is highly correlated with another variable X2. In 2SLS, the idea is to break this problematic correlation by using an instrumental variable (IV)—a new variable Z that is correlated with X1 but *not* directly with Y (except through X1).\n",
        "\n",
        "In the first stage, we regress X1 on the instrument Z (and possibly other exogenous variables) to get a predicted version of X1 that’s uncorrelated with the noise or multicollinearity. In the second stage, we regress Y on this predicted version of X1 instead of the original. This helps isolate the variation in X1 that is clean and not entangled with X2, reducing the effects of multicollinearity.\n",
        "\n",
        "6. I can incorporate nonlinear relationships between your outcome variable y and your predictors x into your analysis while still using a linear model framework by transforming the features.\n",
        "\n",
        "Another approach is to use splines or piecewise linear functions, which allow the relationship to bend at certain points (called knots), creating flexible, smooth curves. I can also use polynomial regression, which includes higher-order terms like x^2, x^3 , etc., to capture curvature in the data.\n",
        "\n",
        "7. The intercept represents the predicted value of the outcome variable\n",
        "y when all the independent variables (features) are equal to zero. It acts as the baseline level of y, but it may not always be meaningful, especially if \"all variables equal zero\" isn’t realistic in the context of the data (e.g., zero income or age).\n",
        "\n",
        "A slope coefficient for a variable shows how much the outcome variable\n",
        "y is expected to change when that particular independent variable increases by one unit, assuming all other variables in the model are held constant. It reflects the marginal effect of that variable on the outcome.\n",
        "\n",
        "The coefficient for a dummy/one-hot-encoded variable tells us the average difference in the outcome between the group represented by the dummy and the baseline group (the category that was left out), again assuming other variables are held constant. This interpretation assumes the model includes an intercept—if it doesn't, the meaning of the dummy coefficients changes significantly.\n"
      ],
      "metadata": {
        "id": "Nup1RICeE74U"
      },
      "id": "Nup1RICeE74U"
    },
    {
      "cell_type": "markdown",
      "id": "25bf83c6-ff44-42d6-9b33-8be1b945860d",
      "metadata": {
        "id": "25bf83c6-ff44-42d6-9b33-8be1b945860d"
      },
      "source": [
        "**Q2.** Load `./data/Q1_clean.csv`. The data include\n",
        "\n",
        "- `Price` per night\n",
        "- `Review Scores Rating`: The average rating for the property\n",
        "- `Neighbourhood `: The bourough of NYC. Note the space, or rename the variable.\n",
        "- `Property Type`: The kind of dwelling\n",
        "- `Room Type`: The kind of space being rented\n",
        "\n",
        "1. Compute the average prices and scores by `Neighbourhood `; which bourough is the most expensive on average? Create a kernel density plot of price and log price, grouping by `Neighbourhood `.\n",
        "2. Regress price on `Neighbourhood ` by creating the appropriate dummy/one-hot-encoded variables, without an intercept in the linear model and using all the data. Compare the coefficients in the regression to the table from part 1. What pattern do you see? What are the coefficients in a regression of a continuous variable on one categorical variable?\n",
        "3. Repeat part 2, but leave an intercept in the linear model. How do you have to handle the creation of the dummies differently? What is the intercept? Interpret the coefficients. How can I get the coefficients in part 2 from these new coefficients?\n",
        "4. Split the sample 80/20 into a training and a test set. Run a regression of `Price` on `Review Scores Rating` and `Neighbourhood `. What is the $R^2$ and RMSE on the test set? What is the coefficient on `Review Scores Rating`? What is the most expensive kind of property you can rent?\n",
        "5. Split the sample 80/20 into a training and a test set. Run a regression of `Price` on `Review Scores Rating` and `Neighbourhood ` and `Property Type`. What is the $R^2$ and RMSE on the test set? What is the coefficient on `Review Scores Rating`? What is the most expensive kind of property you can rent?\n",
        "6. What does the coefficient on `Review Scores Rating` mean if it changes from part 4 to 5? Hint: Think about how multilple linear regression works.\n",
        "7. (Optional) We've included `Neighborhood ` and `Property Type` separately in the model. How do you interact them, so you can have \"A bedroom in Queens\" or \"A townhouse in Manhattan\". Split the sample 80/20 into a training and a test set and run a regression including that kind of \"property type X neighborhood\" dummy, plus `Review Scores Rating`. How does the slope coefficient for `Review Scores Rating`, the $R^2$, and the RMSE change? Do they increase significantly compares to part 5? Are the coefficients in this regression just the sum of the coefficients for `Neighbourhood ` and `Property Type` from 5? What is the most expensive kind of property you can rent?"
      ]
    },
    {
      "cell_type": "markdown",
      "id": "95f22300-0180-4ed2-be8f-ed56cf4cd36b",
      "metadata": {
        "id": "95f22300-0180-4ed2-be8f-ed56cf4cd36b"
      },
      "source": [
        "**Q3.** This question is a case study for linear models. The data are about car prices. In particular, they include:\n",
        "\n",
        "  - `Price`, `Color`, `Seating_Capacity`\n",
        "  - `Body_Type`: crossover, hatchback, muv, sedan, suv\n",
        "  - `Make`, `Make_Year`: The brand of car and year produced\n",
        "  - `Mileage_Run`: The number of miles on the odometer\n",
        "  - `Fuel_Type`: Diesel or gasoline/petrol\n",
        "  - `Transmission`, `Transmission_Type`:  speeds and automatic/manual\n",
        "\n",
        "  1. Load `cars_hw.csv`. These data were really dirty, and I've already cleaned them a significant amount in terms of missing values and other issues, but some issues remain (e.g. outliers, badly scaled variables that require a log or arcsinh transformation). Clean the data however you think is most appropriate.\n",
        "  2. Summarize the `Price` variable and create a kernel density plot. Use `.groupby()` and `.describe()` to summarize prices by brand (`Make`). Make a grouped kernel density plot by `Make`. Which car brands are the most expensive? What do prices look like in general?\n",
        "  3. Split the data into an 80% training set and a 20% testing set.\n",
        "  4. Make a model where you regress price on the numeric variables alone; what is the $R^2$ and `RMSE` on the training set and test set? Make a second model where, for the categorical variables, you regress price on a model comprised of one-hot encoded regressors/features alone (you can use `pd.get_dummies()`; be careful of the dummy variable trap); what is the $R^2$ and `RMSE` on the test set? Which model performs better on the test set? Make a third model that combines all the regressors from the previous two; what is the $R^2$ and `RMSE` on the test set? Does the joint model perform better or worse, and by home much?\n",
        "  5. Use the `PolynomialFeatures` function from `sklearn` to expand the set of numerical variables you're using in the regression. As you increase the degree of the expansion, how do the $R^2$ and `RMSE` change? At what point does $R^2$ go negative on the test set? For your best model with expanded features, what is the $R^2$ and `RMSE`? How does it compare to your best model from part 4?\n",
        "  6. For your best model so far, determine the predicted values for the test data and plot them against the true values. Do the predicted values and true values roughly line up along the diagonal, or not? Compute the residuals/errors for the test data and create a kernel density plot. Do the residuals look roughly bell-shaped around zero? Evaluate the strengths and weaknesses of your model."
      ]
    },
    {
      "cell_type": "markdown",
      "id": "aedcd486",
      "metadata": {
        "id": "aedcd486"
      },
      "source": [
        "**Q4.** This question refers to the `heart_hw.csv` data. It contains three variables:\n",
        "\n",
        "  - `y`: Whether the individual survived for three years, coded 0 for death and 1 for survival\n",
        "  - `age`: Patient's age\n",
        "  - `transplant`: `control` for not receiving a transplant and `treatment` for receiving a transplant\n",
        "\n",
        "Since a heart transplant is a dangerous operation and even people who successfully get heart transplants might suffer later complications, we want to look at whether a group of transplant recipients tends to survive longer than a comparison group who does not get the procedure.\n",
        "\n",
        "1. Compute (a) the proportion of people who survive in the control group who do not receive a transplant, and (b) the difference between the proportion of people who survive in the treatment group and the proportion of people who survive in the control group. In a randomized controlled trial, this is called the **average treatment effect**.\n",
        "2. Regress `y` on `transplant` using a linear model with a constant. How does the constant/intercept of the regression and the coefficient on transplant compare to your answers from part 1? Explain the relationship clearly.\n",
        "3. We'd like to include `age` in the regression, since it's reasonable to expect that older patients are less likely to survive an extensive surgery like a heart transplant. Regress `y` on a constant, transplant, and age. How does the intercept change?\n",
        "4. Build a more flexible model that allows for non-linear age effects and interactions between age and treatment. Use a train-test split to validate your model. Estimate your best model, predict the survival probability by age, and plot your results conditional on receiving a transplant and not. Describe what you see.\n",
        "5. Imagine someone suggests using these kinds of models to select who receives organ transplants; perhaps the CDC or NIH starts using a scoring algorithm to decide who is contacted about a potential organ. What are your concerns about how it is built and how it is deployed?"
      ]
    },
    {
      "cell_type": "markdown",
      "id": "7bd15c6b-4c7c-4230-a199-e03e1054ec6a",
      "metadata": {
        "id": "7bd15c6b-4c7c-4230-a199-e03e1054ec6a"
      },
      "source": [
        "**Q5.** This is a question about linear regression. The outcome is whether a defendant is held pre-trial in the Virginia justice system. We would like to understand how that outcome is predicted by characteristics of the defendant, particularly race. Let's be very careful/clear: We aren't saying anyone *should* be held without bond or asserting that people with different demographic variables *should* be more likely to be held, but instead trying to predict whether people with different characteristics *are empirically more likely* to be held without bond, given the available information. This is the first step we would take in investigating whether a system is fair, or how large the disparities are: Does it treat people with similar observable characteristics similarly, or not? We are going to look at a common question: Are Black defendants treated differently from white or Asian ones? (There are Native American defendants, but there are 11 in total, which is such a small number of observations that is difficult to clearly say anything about how this group is treated relative to the others.)\n",
        "\n",
        "The variables in the data are:\n",
        "\n",
        "  - `held_wo_bail`: Whether a defendant is held without bail before trial (Boolean logical)\n",
        "  - `race`, `sex`: Categorical demographic variables\n",
        "  - `is_poor`: Whether the defendant is classified as indigent\n",
        "  - `prior_F`, `prior_M`: The number of prior felony and misdemeanor arrests\n",
        "  - `case_type`: A categorical variable indicating a misdemeanor `M` or felony `F` or infraction `I` or special case `S`\n",
        "  - `age`: Defendant's age\n",
        "  - `bond`, `bond_NA`, `bond_type`: The amount of any bond, whether it is missing, and the type\n",
        "  - `sentence`, `sentence_NA`, `sentence_type`: The length of any sentence, whether it is missing, and the type\n",
        "\n",
        "1. Load the `pretrial_data.csv` data. Notice that there are `nan`s, but the data are relatively clean. Because there are `.nan`s among variables you won't use, you'll want to narrow down your analysis to the relevant variables before dropping or imputing missing values.\n",
        "2. Create a dummy variable indicating that the defendant is Black.\n",
        "3. Regress `held` on `Black`. What is the slope coefficient Interpret the coefficient on the Black dummy variable: How much more likely is a black person to be held without bail? What is the $R^2$ of the model?\n",
        "4. Before doing this question, please think for a few minutes about how to make the process of running the following regressions as efficient as possible, before jumping into writing code. Repeat part 2, for the following specifications, keeping track of the coefficient on the Black dummy variable each time:\n",
        "      - `held` on `Black` and `sex`\n",
        "      - `held` on `Black` and `sex` and `is_poor`\n",
        "      - `held` on `Black` and `sex` and `is_poor` and `prior_F`\n",
        "      - `held` on `Black` and `sex` and `is_poor` and `prior_F` and `case_type`\n",
        "What happens to the coefficient on the Black dummy variable as you include more regressors/features/controls in the regression? Explain your findings.\n",
        "5. Suppose we don't want to see just `Black` and `sex`, but `Black` interacted with `sex`: Are Black men and Black women treated systemically differently from the rest of the population? Implement this in a regression, and explain your findings.\n",
        "6. Imagine someone argued we should use these kinds of models to help a judge or magistrate make bail decisions (you could obviously go back and make this kind of model for the bond and sentence variables, then deploy it on new cases to predict what their bond and sentence values would be). What concerns would you have? Do you think society should be using data-driven and automated tools like that? Explain your concerns clearly."
      ]
    },
    {
      "cell_type": "markdown",
      "id": "ca1cfba3",
      "metadata": {
        "vscode": {
          "languageId": "plaintext"
        },
        "id": "ca1cfba3"
      },
      "source": [
        "**Q6.** Let's explore multiple linear regression in a two-variable case, to build more intuition about what is happening.\n",
        "\n",
        "Suppose the model is\n",
        "$$\n",
        "\\hat{y}_i = b_0 + b_1 z_{i1} + b_2 z_{i2}\n",
        "$$\n",
        "Assume that $z_{ij}$ is centered or de-meaned, so that $z_{ij} = x_{ij} - m_j$ where $m_j$ is the mean of variable $j$ and $x_{ij}$ is the original value of variable $j$ for observation $i$. Notice that this implies\n",
        "$$\n",
        "\\dfrac{1}{N} \\sum_{i=1}^N z_{ij} = 0\n",
        "$$\n",
        "which will simplify your calculations below substantially!\n",
        "\n",
        "1. Write down the SSE for this model.\n",
        "2. Take partial derivatives with respect to $b_0$, $b_1$, and $b_2$.\n",
        "3. Verify that the average error is zero and $e \\cdot z =0$ at the optimum, just as in the single linear regression case.\n",
        "4. Show that the optimal intercept is $b_0^* = \\bar{y}$. Eliminate $b_0^*$ from the remaining equations, and focus on $b_1$ and $b_2$.\n",
        "5. Write your results as a matrix equation in the form \"$Ab=C$\". These are called the **normal equations**.\n",
        "6. Divide both sides by $N$ and substitute $z_{ij} = x_{ij} - m_j$ back into your normal equations for $x_{ij}$. What is the matrix $A$? What is the vector $C$? Explain the intuition of your discovery."
      ]
    },
    {
      "cell_type": "markdown",
      "id": "547d5828",
      "metadata": {
        "id": "547d5828"
      },
      "source": [
        "**Q7.** In class, we showed that for the single linear regression model,\n",
        "\\begin{alignat*}{3}\n",
        "a^* &=& \\bar{y} \\\\\n",
        "b^* &=& \\dfrac{\\sum_{i=1}^N(y_i - \\bar{y})(x_i-\\bar{x})}{\\sum_{i=1}^N (x_i-\\bar{x})^2},\n",
        "\\end{alignat*}\n",
        "\n",
        "1. When will $b^*$ be large or small, depending on the relationship between $X$ and $Y$ and the variance of $X$?\n",
        "2. Suppose you have measurement error in $X$ which artificially inflates its variance (e.g. bad data cleaning). We'll model this as saying the \"real\" value of $X$ for observation $i$ is $z_i$, but we observe $x_i = z_i + n_i$, where $n_i$ is the added noise. Does this affect the intercept of the regression? What happens to the $b^*$ coefficient relative to a noise-less model? How will affect your ability to predict? (This phenomenon is called **attenuation**.)\n",
        "3. Suppose the noise $n_i$ is independent of $z_i$ and $y_i$, so that (approximately)\n",
        "$$\n",
        "\\dfrac{1}{N} \\sum_{i=1}^N (y_i - \\bar{y})(n_i - \\bar{n}) =0, \\quad \\dfrac{1}{N} \\sum_{i=1}^N (z_i - \\bar{z})(n_i - \\bar{n}) =0.\n",
        "$$\n",
        "and that the mean of the bias is zero, so that\n",
        "$$\n",
        "\\dfrac{1}{N} \\sum_{i=1}^N n_i = 0.\n",
        "$$\n",
        "In this case, the noise $n_i$ is zero on average and independent of the values of $x_i$ and $y_i$: It's just measurement error or lazy data cleaning.\n",
        "Explain the intuition of your result.\n",
        "\n",
        "4. How does attenuation factor into the cost-benefit analysis of gathering higher quality data or cleaning it more carefully?"
      ]
    },
    {
      "cell_type": "markdown",
      "source": [
        "1. The slope coefficient b* will be larger when there is a strong relationship between X and Y, meaning the values of X and Y move together consistently (i.e., high covariance). It will also tend to be larger if the variance of X (the spread of the X values) is small, because the denominator of the slope formula gets smaller, which makes the slope steeper.\n",
        "\n",
        "On the other hand, b* will be smaller when the relationship between X and Y is weak (low covariance), or when the variance of X is large (i.e., X values are spread out), which would make the slope flatter. So in short: the slope depends directly on how tightly X and Y are related (the numerator) and inversely on how much X varies (the denominator). If X has a lot of variability but doesn’t explain much of Y, the slope will shrink.\n",
        "\n",
        "2. When we observe xi=zi+ni, where zi is the true value and ni is noise (such as from poor data cleaning), we are introducing measurement error into the explanatory variable X. This measurement error artificially increases the variance of X, because it adds randomness on top of the true variation in zi. As a result, when we compute the slope coefficient b*, the numerator (which captures the true relationship between X and Y ) stays about the same, but the denominator (the variance of X) becomes larger due to the added noise. This causes b* to shrink toward zero—a phenomenon known as attenuation.\n",
        "\n",
        "This bias does not significantly affect the intercept of the regression, because the intercept adjusts to the average values of X and Y, and if the noise is zero-mean and uncorrelated with Y, it won't systematically shift the average.\n",
        "\n",
        "However, the slope being too small has consequences: it means our model underestimates the true effect of the variable X on the outcome Y, which can lead to worse predictions, especially when we care about how sensitiveY is to changes in X.\n",
        "\n",
        "3. In this case, the noise ni is random, has an average of zero, and is unrelated to both the true values zi and the outcomes yi. That means the noise is just random measurement error, like what might happen due to careless data entry or imprecise tools, and it's not systematically pushing the data in any direction.\n",
        "\n",
        "Even though the noise isn't biased and doesn't create a direct relationship with the outcome, it still causes problems by increasing the overall variance in the observed variable xi. Since the slope formula divides by the variance of x, this added noise in the denominator makes the slope smaller than it should be. So the estimated effect of the predictor on the outcome is weaker than it really is.\n",
        "\n",
        "The intuition is that the random noise makes it harder to detect the true relationship between the variables. It spreads out the x values in a meaningless way, which makes it look like changes in x have less of an effect on y, even when they actually do. The real signal is being hidden behind random clutter.\n",
        "\n",
        "4. Attenuation directly affects how we think about the value of collecting higher-quality data. When there is measurement error in your features, your model underestimates the true relationships between variables. This means that even if there’s a real, strong effect of a variable on the outcome, your model might suggest it’s weak or even irrelevant—just because the data is noisy. In terms of cost-benefit, this suggests that there’s a real benefit to investing in better data collection or more careful data cleaning. By reducing noise in your features, you reduce attenuation, which helps your model capture the true relationships more accurately. This leads to better predictions and more reliable conclusions.\n"
      ],
      "metadata": {
        "id": "5TiBukNvXKqy"
      },
      "id": "5TiBukNvXKqy"
    },
    {
      "cell_type": "markdown",
      "id": "b67478ac-ad78-4a44-9720-583c71b8da14",
      "metadata": {
        "id": "b67478ac-ad78-4a44-9720-583c71b8da14"
      },
      "source": [
        "**Q8.**\n",
        "1. Find a dataset on a topic you're interested in. Some easy options are data.gov, kaggle.com, and data.world.\n",
        "2. Clean the data and do some exploratory data analysis on key variables that interest you. Pick a particular target/outcome variable and features/predictors.\n",
        "3. Split the sample into an ~80% training set and a ~20% test set.\n",
        "4. Run a few regressions of your target/outcome variable on a variety of features/predictors. Compute the SSE on the test set.\n",
        "5. Which model performed the best, and why?\n",
        "6. What did you learn?"
      ]
    },
    {
      "cell_type": "markdown",
      "id": "fcf48562",
      "metadata": {
        "id": "fcf48562"
      },
      "source": [
        "**Q9.** There is a folder called `heart_failure` which contains reasonably detailed health data on patients and whether they die of congestive heart failure.\n",
        "\n",
        "1. Load the data and perform an 80/20-train/test split.\n",
        "2. Using dummy/one-hot-encoded variables and transformations of the numeric features, build the best model you can. **But**, do not delete code chunks or revise your work substantially as you experiment. Just keep moving forward with your ideas and experiments.\n",
        "3. When you're done, scroll through your notebook. What worked and what didn't? Does your code have intention, or are you randomly experimenting? If you had to do this again, what might you do differently to get to a good model faster?\n"
      ]
    },
    {
      "cell_type": "code",
      "source": [
        "#question 9 part 1\n",
        "import pandas as pd\n",
        "import numpy as np\n",
        "import seaborn as sns\n",
        "import matplotlib.pyplot as plt\n",
        "from sklearn.model_selection import train_test_split  # ← add this line\n",
        "\n",
        "url = \"https://raw.githubusercontent.com/ds4e/linearModels/refs/heads/main/data/heart_failure/heart_failure_clinical_records_dataset.csv\"\n",
        "df1 = pd.read_csv(url, low_memory=False)\n",
        "df1.head()\n",
        "\n",
        "train_df, test_df = train_test_split(df1, test_size=0.2, random_state=42)\n",
        "\n"
      ],
      "metadata": {
        "id": "IAgHwXOZt1dR"
      },
      "id": "IAgHwXOZt1dR",
      "execution_count": 3,
      "outputs": []
    },
    {
      "cell_type": "code",
      "source": [
        "#question 9 part 2\n",
        "from sklearn.linear_model import LinearRegression\n",
        "from sklearn.preprocessing import StandardScaler, OneHotEncoder\n",
        "from sklearn.compose import ColumnTransformer\n",
        "from sklearn.pipeline import Pipeline\n",
        "from sklearn.metrics import mean_squared_error\n",
        "from sklearn.model_selection import cross_val_score\n",
        "\n",
        "# Separate features and target\n",
        "X_train = train_df.drop(columns='DEATH_EVENT')\n",
        "y_train = train_df['DEATH_EVENT']\n",
        "X_test = test_df.drop(columns='DEATH_EVENT')\n",
        "y_test = test_df['DEATH_EVENT']\n",
        "\n",
        "# Identify numeric and categorical columns\n",
        "numeric_features = X_train.select_dtypes(include=['int64', 'float64']).columns.tolist()\n",
        "categorical_features = X_train.select_dtypes(include=['object', 'category']).columns.tolist()\n",
        "\n",
        "# Preprocessing steps\n",
        "numeric_transformer = StandardScaler()\n",
        "categorical_transformer = OneHotEncoder(drop='first', handle_unknown='ignore')\n",
        "\n",
        "preprocessor = ColumnTransformer(\n",
        "    transformers=[\n",
        "        ('num', numeric_transformer, numeric_features),\n",
        "        ('cat', categorical_transformer, categorical_features)\n",
        "    ]\n",
        ")\n",
        "\n",
        "# Build pipeline\n",
        "model = Pipeline(steps=[\n",
        "    ('preprocessor', preprocessor),\n",
        "    ('regressor', LinearRegression())\n",
        "])\n",
        "\n",
        "# Fit model\n",
        "model.fit(X_train, y_train)\n",
        "\n",
        "# Evaluate model\n",
        "y_pred = model.predict(X_test)\n",
        "mse = mean_squared_error(y_test, y_pred)\n",
        "print(\"Test MSE:\", mse)\n"
      ],
      "metadata": {
        "id": "sz9J4k2VvoiE",
        "outputId": "461456a1-38ea-4602-d3d6-9bbb69502a53",
        "colab": {
          "base_uri": "https://localhost:8080/"
        }
      },
      "id": "sz9J4k2VvoiE",
      "execution_count": 4,
      "outputs": [
        {
          "output_type": "stream",
          "name": "stdout",
          "text": [
            "Test MSE: 0.17868807219099947\n"
          ]
        }
      ]
    },
    {
      "cell_type": "markdown",
      "source": [
        "3. While working through the notebook, I noticed that the model pipeline with preprocessing steps like one-hot encoding and feature scaling worked well and allowed for a clean, modular approach to training. Using ColumnTransformer and Pipeline helped keep the code organized and reproducible. However, one limitation was that the dataset had mostly numeric features with limited categorical data, which may have restricted the benefits of encoding. Additionally, I didn't explore other models beyond linear regression, so performance improvements might have been limited. If I had to do this again, I would spend more time exploring the data upfront to identify any interactions or non-linear relationships, consider feature engineering earlier, and try a variety of models such as decision trees or regularized regressions to compare performance more effectively."
      ],
      "metadata": {
        "id": "nSzJNSSRwX-M"
      },
      "id": "nSzJNSSRwX-M"
    },
    {
      "cell_type": "markdown",
      "id": "0125d03b",
      "metadata": {
        "vscode": {
          "languageId": "plaintext"
        },
        "id": "0125d03b"
      },
      "source": [
        "**Q10.** Let's look at a cousin of Linear Regression, called **kernel regression** or **local constant least squares** or **Nadaraya-Watson Estimator**.\n",
        "\n",
        "We derived the OLS estimator for single linear regression by minimizing\n",
        "$$\n",
        "SSE(b_0, b_1) = \\frac{1}{N}\\sum_{i=1}^N (y_i - b_0 - b_1 x_i)^2\n",
        "$$\n",
        "with solution\n",
        "$$\n",
        "\\hat{b}_0 = \\bar{y} - \\hat{b}_1 \\bar{x}, \\quad \\hat{b}_1 = \\dfrac{\\frac{1}{N} \\sum_{i=1}^N (x_i-\\bar{x})(y_i - \\bar{y})}{s_x^2}.\n",
        "$$\n",
        "\n",
        "When you step back and think about it, this is a bit weird: The algorithm is computing sample means, variances, and covariances, and using those to create a predictive model. The data themselves arguably vanish from the solution. This is elegant, this is strange.\n",
        "\n",
        "Instead, let $k(z)$ be a kernel function, such as the Gaussian\n",
        "$$\n",
        "k(z) = \\frac{1}{\\sqrt{2\\pi}} e^{-z^2/2}\n",
        "$$\n",
        "or uniform\n",
        "$$\n",
        "k(z) = \\begin{cases}\n",
        "1/2, & |z| \\le \\frac{1}{2}\\\\\n",
        "0, & \\text{otherwise.}\n",
        "\\end{cases}\n",
        "$$\n",
        "We'll instead minimize, or each predictor value $x$,\n",
        "$$\n",
        "SSE(\\hat{y}(x)) = \\dfrac{1}{N} \\sum_{i=1}^N \\left\\lbrace y_i - \\hat{y}(x)\\right\\rbrace^2 \\dfrac{1}{h} k \\left( \\dfrac{x-x_i}{h} \\right).\n",
        "$$\n",
        "\n",
        "1. Show that the optimal predictor is\n",
        "$$\n",
        "\\hat{y}(x) = \\dfrac{ \\frac{1}{Nh} \\sum_{i=1}^N  y_i k \\left( \\dfrac{x-x_i}{h} \\right) }{\\frac{1}{Nh} \\sum_{i=1}^N k \\left(  \\dfrac{x-x_i}{h} \\right)}\n",
        "$$\n",
        "This has many names, but let's call it the local constant least squares (LCLS) estimator, as opposed to ordinary least squares (OLS).\n",
        "\n",
        "2. Compare and contrast LCLS with both OLS and $k$-Nearest Neighbor as a regression algorithm.\n",
        "\n",
        "3. Write a function or class that implements the LCLS estimator for a single predictor variable $x$. For a default bandwidth $h$, you can use the maximum of the Silverman plug-ins for estimating kernel densities for $X$ and $Y$:\n",
        "$$\n",
        "h_y = 1.06 \\times s_y^{-1/5}, \\quad h_x = 1.06 \\times s_x^{-1/5},\n",
        "$$\n",
        "$$\n",
        "h = \\max \\{ h_y, h_x \\}.\n",
        "$$\n",
        "For the kernel, you can hard-code the uniform, Gaussian, or Epanechnikov, or make it a parameter the user can adjust with a default choice.\n",
        "\n",
        "4. For one of the datasets available for the homework, use your LCLS estimator from part 3 to predict values $\\hat{y}(x_i)$ for each datapoint $x_i$. Plot your estimator $\\hat{y}$ as a line over a scatterplot of the data $\\{(x_i,y_i)\\}_{i=1}^N$. Tune the bandwidth until you\n",
        "\n",
        "5. Conceptually, how would you extend this analysis to a vector of predictors, $x = (x_1, ..., x_L)$ instead of just one explanatory variable $x$?\n"
      ]
    }
  ],
  "metadata": {
    "colab": {
      "provenance": []
    },
    "kernelspec": {
      "display_name": "Python 3 (ipykernel)",
      "language": "python",
      "name": "python3"
    },
    "language_info": {
      "codemirror_mode": {
        "name": "ipython",
        "version": 3
      },
      "file_extension": ".py",
      "mimetype": "text/x-python",
      "name": "python",
      "nbconvert_exporter": "python",
      "pygments_lexer": "ipython3",
      "version": "3.12.2"
    }
  },
  "nbformat": 4,
  "nbformat_minor": 5
}