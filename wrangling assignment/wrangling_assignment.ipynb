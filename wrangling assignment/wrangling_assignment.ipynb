{
  "cells": [
    {
      "cell_type": "markdown",
      "id": "13ad028b-72b7-43ed-aa78-96fd4e518040",
      "metadata": {
        "id": "13ad028b-72b7-43ed-aa78-96fd4e518040"
      },
      "source": [
        "# Assignment: Data Wrangling\n",
        "### `! git clone https://github.com/ds4e/wrangling`\n",
        "### Do Q1 and Q2, and either Q3 or Q4, for a total of 3 questions."
      ]
    },
    {
      "cell_type": "markdown",
      "id": "da879ea7-8aac-48a3-b6c2-daea56d2e072",
      "metadata": {
        "id": "da879ea7-8aac-48a3-b6c2-daea56d2e072"
      },
      "source": [
        "**Q1.** This question provides some practice cleaning variables which have common problems.\n",
        "1. Numeric variable: For `./data/airbnb_hw.csv`, clean the `Price` variable as well as you can, and explain the choices you make. How many missing values do you end up with? (Hint: What happens to the formatting when a price goes over 999 dollars, say from 675 to 1,112?)\n",
        "2. Categorical variable: For the Minnesota police use of for data, `./data/mn_police_use_of_force.csv`, clean the `subject_injury` variable, handling the NA's; this gives a value `Yes` when a person was injured by police, and `No` when no injury occurred. What proportion of the values are missing? Is this a concern? Cross-tabulate your cleaned `subject_injury` variable with the `force_type` variable. Are there any patterns regarding when the data are missing?\n",
        "3. Dummy variable: For the pretrial data covered in the lecture, clean the `WhetherDefendantWasReleasedPretrial` variable as well as you can, and, in particular, replace missing values with `np.nan`.\n",
        "4. Missing values, not at random: For the pretrial data covered in the lecture, clean the `ImposedSentenceAllChargeInContactEvent` variable as well as you can, and explain the choices you make. (Hint: Look at the `SentenceTypeAllChargesAtConvictionInContactEvent` variable.)"
      ]
    },
    {
      "cell_type": "code",
      "source": [
        "#question 1 part 1\n",
        "import pandas as pd\n",
        "import numpy as np\n",
        "import seaborn as sns\n",
        "\n",
        "url = \"https://raw.githubusercontent.com/ds4e/wrangling/refs/heads/main/assignment/data/airbnb_hw.csv\"\n",
        "df1 = pd.read_csv(url,low_memory=False)\n",
        "print(df1)\n",
        "\n",
        "#cleaning, remove symbols$ and seperaters , .\n",
        "df1['Price'] = df1['Price'].str.replace('[\\$,]', '', regex=True)\n",
        "\n",
        "#coercion\n",
        "var = 'Price'\n",
        "\n",
        "\n",
        "# coerce a variable to numeric:\n",
        "df1['Price'] = pd.to_numeric(df1['Price'], errors='coerce') # Coerce the variable to numeric\n",
        "\n",
        "# Create a missing dummy:\n",
        "df1['Price_nan'] = df1['Price'].isnull() # Equals 1 if missing, 0 if non-null\n",
        "\n",
        "# After coercion:\n",
        "print('After coercion: \\n', df1['Price'].describe(),'\\n') # Describe the numeric variable\n",
        "print('Total Missings: \\n', sum(df1['Price_nan']),'\\n')\n",
        "# I got 0 missing values."
      ],
      "metadata": {
        "colab": {
          "base_uri": "https://localhost:8080/"
        },
        "id": "tb6uY6UDqhj_",
        "outputId": "a9a3bee1-2c51-4a67-c60a-d1ef4474f5a1"
      },
      "id": "tb6uY6UDqhj_",
      "execution_count": 22,
      "outputs": [
        {
          "output_type": "stream",
          "name": "stdout",
          "text": [
            "        Host Id Host Since                                Name Neighbourhood   \\\n",
            "0       5162530        NaN     1 Bedroom in Prime Williamsburg       Brooklyn   \n",
            "1      33134899        NaN     Sunny, Private room in Bushwick       Brooklyn   \n",
            "2      39608626        NaN                Sunny Room in Harlem      Manhattan   \n",
            "3           500  6/26/2008  Gorgeous 1 BR with Private Balcony      Manhattan   \n",
            "4           500  6/26/2008            Trendy Times Square Loft      Manhattan   \n",
            "...         ...        ...                                 ...            ...   \n",
            "30473  43022976  8/31/2015   10 Mins to Time Square/two floors         Queens   \n",
            "30474  42993382  8/31/2015       1BR ocean view & F,Q train st       Brooklyn   \n",
            "30475  43033067  8/31/2015                Amazing Private Room       Brooklyn   \n",
            "30476  43000991  8/31/2015   Charming private female room: UWS      Manhattan   \n",
            "30477  42999189  8/31/2015    Huge Beautiful Bedroom - Astoria         Queens   \n",
            "\n",
            "      Property Type  Review Scores Rating (bin)        Room Type  Zipcode  \\\n",
            "0         Apartment                         NaN  Entire home/apt  11249.0   \n",
            "1         Apartment                         NaN     Private room  11206.0   \n",
            "2         Apartment                         NaN     Private room  10032.0   \n",
            "3         Apartment                         NaN  Entire home/apt  10024.0   \n",
            "4         Apartment                        95.0     Private room  10036.0   \n",
            "...             ...                         ...              ...      ...   \n",
            "30473     Apartment                         NaN  Entire home/apt  11101.0   \n",
            "30474     Apartment                         NaN     Private room  11224.0   \n",
            "30475         Other                         NaN     Private room  11206.0   \n",
            "30476     Apartment                         NaN     Private room  10025.0   \n",
            "30477         House                         NaN     Private room  11105.0   \n",
            "\n",
            "       Beds  Number of Records  Number Of Reviews Price  Review Scores Rating  \n",
            "0       1.0                  1                  0   145                   NaN  \n",
            "1       1.0                  1                  1    37                   NaN  \n",
            "2       1.0                  1                  1    28                   NaN  \n",
            "3       3.0                  1                  0   199                   NaN  \n",
            "4       3.0                  1                 39   549                  96.0  \n",
            "...     ...                ...                ...   ...                   ...  \n",
            "30473   5.0                  1                  0   300                   NaN  \n",
            "30474   2.0                  1                  0   125                   NaN  \n",
            "30475   1.0                  1                  0    80                   NaN  \n",
            "30476   1.0                  1                  0    35                   NaN  \n",
            "30477   1.0                  1                  0    80                   NaN  \n",
            "\n",
            "[30478 rows x 13 columns]\n",
            "After coercion: \n",
            " count    30478.000000\n",
            "mean       163.589737\n",
            "std        197.785454\n",
            "min         10.000000\n",
            "25%         80.000000\n",
            "50%        125.000000\n",
            "75%        195.000000\n",
            "max      10000.000000\n",
            "Name: Price, dtype: float64 \n",
            "\n",
            "Total Missings: \n",
            " 0 \n",
            "\n"
          ]
        }
      ]
    },
    {
      "cell_type": "markdown",
      "source": [
        "I realized that when a price goes over 999 dollars, prices like 1,112 has commas that would cause parsing issues. So I cleaned the Price variable by removing dollar signs ($) and commas (,) for numbers over 999, converting the column to numeric and ensuring no missing values were introduced. After cleaning, I ended up with 0 missing values."
      ],
      "metadata": {
        "id": "XzEkvQTLq-w8"
      },
      "id": "XzEkvQTLq-w8"
    },
    {
      "cell_type": "code",
      "source": [
        "# Question 1 part 2\n",
        "#Question 1 Part 2\n",
        "url2 = \"https://raw.githubusercontent.com/ds4e/wrangling/refs/heads/main/assignment/data/mn_police_use_of_force.csv\"\n",
        "df2 = pd.read_csv(url2,low_memory=False)\n",
        "print(df2)\n",
        "\n",
        "# Create a missing dummy:\n",
        "df2['subject_injury_nan'] = df2['subject_injury'].isnull() # Equals 1 if missing, 0 if non-null)\n",
        "missingvalues = sum(df2['subject_injury_nan'])\n",
        "print(missingvalues)\n",
        "\n",
        "print('Total Missings: \\n', missingvalues,'\\n') #9848 of total missings\n",
        "\n",
        "# proportion of missing values\n",
        "totalnumber = len(df2)\n",
        "print(f\"Total rows: {totalnumber}\")\n",
        "proportion = missingvalues / totalnumber\n",
        "print(proportion)\n",
        "\n",
        "# cross tabulate\n",
        "cross_tab = pd.crosstab(df2['subject_injury'], df2['force_type']) # Notice the use of pd. and not df.\n",
        "print(cross_tab.to_string())\n",
        "\n"
      ],
      "metadata": {
        "colab": {
          "base_uri": "https://localhost:8080/"
        },
        "id": "Ll-fJC84rEdv",
        "outputId": "3cb296c8-ad5f-475a-bc0b-043aa1f035b1"
      },
      "id": "Ll-fJC84rEdv",
      "execution_count": 23,
      "outputs": [
        {
          "output_type": "stream",
          "name": "stdout",
          "text": [
            "         response_datetime               problem is_911_call primary_offense  \\\n",
            "0      2016/01/01 00:47:36  Assault in Progress          Yes          DASLT1   \n",
            "1      2016/01/01 02:19:34                Fight           No          DISCON   \n",
            "2      2016/01/01 02:19:34                Fight           No          DISCON   \n",
            "3      2016/01/01 02:28:48                Fight           No          PRIORI   \n",
            "4      2016/01/01 02:28:48                Fight           No          PRIORI   \n",
            "...                    ...                   ...         ...             ...   \n",
            "12920  2021/08/30 21:38:46  Assault in Progress          Yes        ASLT5      \n",
            "12921  2021/08/30 22:32:22      Unwanted Person          Yes        CIC        \n",
            "12922  2021/08/31 12:03:08       Overdose w/All          Yes        FORCE      \n",
            "12923  2021/08/31 12:52:52      Attempt Pick-Up           No        WT         \n",
            "12924  2021/08/31 21:34:29      Unwanted Person           No        FORCE      \n",
            "\n",
            "      subject_injury         force_type   force_type_action   race     sex  \\\n",
            "0                NaN       Bodily Force  Body Weight to Pin  Black    Male   \n",
            "1                NaN  Chemical Irritant       Personal Mace  Black  Female   \n",
            "2                NaN  Chemical Irritant       Personal Mace  White  Female   \n",
            "3                NaN  Chemical Irritant  Crowd Control Mace  Black    Male   \n",
            "4                NaN  Chemical Irritant  Crowd Control Mace  Black    Male   \n",
            "...              ...                ...                 ...    ...     ...   \n",
            "12920            NaN       Bodily Force          Joint Lock  White  Female   \n",
            "12921            NaN       Bodily Force          Joint Lock    NaN     NaN   \n",
            "12922            NaN       Bodily Force     Body Weight Pin  Black    Male   \n",
            "12923            NaN       Bodily Force     Body Weight Pin  Black    Male   \n",
            "12924            NaN       Bodily Force           Push Away  White    Male   \n",
            "\n",
            "        age        type_resistance  precinct       neighborhood  \n",
            "0      20.0                 Tensed         1      Downtown East  \n",
            "1      27.0  Verbal Non-Compliance         1      Downtown West  \n",
            "2      23.0  Verbal Non-Compliance         1      Downtown West  \n",
            "3      20.0    Commission of Crime         1      Downtown West  \n",
            "4      20.0    Commission of Crime         1      Downtown West  \n",
            "...     ...                    ...       ...                ...  \n",
            "12920  69.0                    NaN         1        Loring Park  \n",
            "12921   NaN                    NaN         1    Cedar Riverside  \n",
            "12922   NaN                    NaN         3             Seward  \n",
            "12923  31.0                    NaN         4  Camden Industrial  \n",
            "12924   NaN                      X         1         North Loop  \n",
            "\n",
            "[12925 rows x 13 columns]\n",
            "9848\n",
            "Total Missings: \n",
            " 9848 \n",
            "\n",
            "Total rows: 12925\n",
            "0.7619342359767892\n",
            "force_type      Baton  Bodily Force  Chemical Irritant  Firearm  Gun Point Display  Improvised Weapon  Less Lethal Projectile  Police K9 Bite  Taser\n",
            "subject_injury                                                                                                                                      \n",
            "No                  0          1093                131        2                 33                 34                       1               2    150\n",
            "Yes                 2          1286                 41        0                 44                 40                       2              44    172\n"
          ]
        }
      ]
    },
    {
      "cell_type": "markdown",
      "source": [
        "After cleaning the categorical, I realized that there are a total of 9848 missing values out of a total of 12925 rows of data. So the proporation of missing values is 9848/12925 = 0.76 (rounding to 2 decimal places), which is 76%. The high proportion of missing values is a concern as the missing values could affect the validity of conclusions regarding police use of force and injury outcomes and it would also introduce bias.\n",
        "\n",
        "After cross-tabulating, according to the table generated, the inuries seem to be concentrated in categories like Gun Point Display, Firearm, and Police K9 Bite, where injuries might have been expected but are largely absent in the table. The fact that Bodily Force and Taser have a higher proportion of both \"Yes\" and \"No\" means they are more consistently reported compared to others. This missing data issue is concerning because it can bias any conclusions drawn about the relationship between force type and injuries."
      ],
      "metadata": {
        "id": "jbkerwzGrOWT"
      },
      "id": "jbkerwzGrOWT"
    },
    {
      "cell_type": "code",
      "source": [
        "import pandas as pd\n",
        "\n",
        "url = \"http://www.vcsc.virginia.gov/pretrialdataproject/October%202017%20Cohort_Virginia%20Pretrial%20Data%20Project_Deidentified%20FINAL%20Update_10272021.csv\"\n",
        "df3 = pd.read_csv(url, low_memory=False)\n",
        "print(df3.head())\n",
        "print(df3.columns.tolist())\n",
        "\n",
        "tobecleaned = df3['WhetherDefendantWasReleasedPretrial']\n",
        "print(tobecleaned.unique(),'\\n') #Get unique values of the variable\n",
        "#Three unique values: [9 0 1]\n",
        "print(tobecleaned.value_counts(),'\\n')\n",
        "tobecleaned = tobecleaned.replace(9,np.nan) #replace 9 with NaN\n",
        "print(tobecleaned.value_counts(),'\\n')\n",
        "print(sum(tobecleaned.isnull())) #counthow many 9s were correctly replaced\n",
        "df3['WhetherDefendantWasReleasedPretrial'] = tobecleaned\n",
        "del tobecleaned\n"
      ],
      "metadata": {
        "colab": {
          "base_uri": "https://localhost:8080/"
        },
        "id": "exJZmrgMrTV2",
        "outputId": "b41d541d-fdac-4653-e86d-aae12cbef506"
      },
      "id": "exJZmrgMrTV2",
      "execution_count": 26,
      "outputs": [
        {
          "output_type": "stream",
          "name": "stdout",
          "text": [
            "  InternalStudyID REQ_REC# Defendant_Sex Defendant_Race Defendant_BirthYear  \\\n",
            "0        ADI00001        1             M              W                1986   \n",
            "1        ADI00007        3             M              B                1956   \n",
            "2        ADI00008        4             M              W                1990   \n",
            "3        CDI00036        6             M              B                1989   \n",
            "4        CDI00038        7             F              W                1988   \n",
            "\n",
            "  Defendant_Age  Defendant_AgeGroup Defendant_AgeatCurrentArrest  \\\n",
            "0            31                   3                           31   \n",
            "1            60                   6                           60   \n",
            "2            27                   3                           27   \n",
            "3            27                   3                           27   \n",
            "4            28                   3                           28   \n",
            "\n",
            "   Defendant_AttorneyTypeAtCaseClosure  Defendant_IndigencyStatus  ...  \\\n",
            "0                                   99                         99  ...   \n",
            "1                                    9                          9  ...   \n",
            "2                                    9                          9  ...   \n",
            "3                                    0                          0  ...   \n",
            "4                                    0                          0  ...   \n",
            "\n",
            "  NewFelonySexualAssaultArrest_OffDate  \\\n",
            "0                                        \n",
            "1                                        \n",
            "2                                        \n",
            "3                                        \n",
            "4                                        \n",
            "\n",
            "  NewFelonySexualAssaultArrest_ArrestDate  \\\n",
            "0                                           \n",
            "1                                           \n",
            "2                                           \n",
            "3                                           \n",
            "4                                           \n",
            "\n",
            "   NewFelonySexualAssaultArrest_DaysBetweenContactEventandOffDate  \\\n",
            "0                                                                   \n",
            "1                                                                   \n",
            "2                                                                   \n",
            "3                                                                   \n",
            "4                                                                   \n",
            "\n",
            "  NewFelonySexualAssaultArrest_DaysBetweenOffDateandArrestDate  \\\n",
            "0                                                999             \n",
            "1                                                999             \n",
            "2                                                999             \n",
            "3                                                999             \n",
            "4                                                999             \n",
            "\n",
            "   NewFelonySexualAssaultArrest_DaysBetweenReleaseDateandOffDate  \\\n",
            "0                                                999               \n",
            "1                                                999               \n",
            "2                                                999               \n",
            "3                                                999               \n",
            "4                                                999               \n",
            "\n",
            "   NewFelonySexualAssaultArrest_Disposition  \\\n",
            "0                                             \n",
            "1                                             \n",
            "2                                             \n",
            "3                                             \n",
            "4                                             \n",
            "\n",
            "   Intertnalindicator_ReasonforExcludingFromFollowUpAnalysis  \\\n",
            "0                                                  4           \n",
            "1                                                  5           \n",
            "2                                                  5           \n",
            "3                                                  5           \n",
            "4                                                  0           \n",
            "\n",
            "   CriminalHistoryRecordsReturnedorCMSRecordsFoundforIndividual  \\\n",
            "0                                                  1              \n",
            "1                                                  1              \n",
            "2                                                  1              \n",
            "3                                                  1              \n",
            "4                                                  1              \n",
            "\n",
            "  DispRecordFoundforChargesinOct2017Contact_Atleast1dispfound  \\\n",
            "0                                                  0            \n",
            "1                                                  1            \n",
            "2                                                  1            \n",
            "3                                                  1            \n",
            "4                                                  1            \n",
            "\n",
            "   CrimeCommission2021ReportClassificationofDefendants  \n",
            "0  Defendant could not be classified or tracked d...    \n",
            "1  Defendant Detained Entire Pre-Trial Period_Und...    \n",
            "2  Defendant Detained Entire Pre-Trial Period_Und...    \n",
            "3  Defendant Detained Entire Pre-Trial Period_Und...    \n",
            "4  New criminal offense punishable by incarcerati...    \n",
            "\n",
            "[5 rows x 709 columns]\n",
            "['InternalStudyID', 'REQ_REC#', 'Defendant_Sex', 'Defendant_Race', 'Defendant_BirthYear', 'Defendant_Age', 'Defendant_AgeGroup', 'Defendant_AgeatCurrentArrest', 'Defendant_AttorneyTypeAtCaseClosure', 'Defendant_IndigencyStatus', 'Defendant_RecordedZipCode_eMag', 'Defendant_VirginiaResidencyStatus', 'WhetherDefendantWasReleasedPretrial', 'PretrialReleaseDate', 'DaysBetweenContactEventAndPretrialRelease', 'PretrialReleaseType1', 'PretrialReleaseType2', 'BondTypeAtInitialContact', 'BondAmountAtInitialContact', 'BondTypeAtRelease_v1', 'BondTypeatRelease_v2', 'BondAmountAtRelease', 'WhetherDefendantReceivedPretrialServicesAgencySuperv_PTCC', 'DaysBetweenReleaseandActivePretrialServicesAgencySupervDate', 'DaysBetweenPretrialServicesAgencySupervReferralDateandSupervDate', 'Indicator_PresumptiveDenialOfBail_19.2_120', 'Indicator_ConditionsToBeReleasedSecuredBond_19.2_123', 'IfReleasedonSecuredBond_TypeofSurety', 'Indicator_BailTermSetByCourt_eMag', 'AdditionalJailTimeServedAfterInitialPretrialRelease', 'Oct2017_ContactEventDate', 'ContactEventType', 'ContactEvent_OverallTypeofOffense_v1', 'ContactEvent_OverallTypeofOffense_v2', 'ContactEvent_WhetherOffensePunishablebyIncaration', 'ContactEvent_CourtType', 'NumberOffenseTypesinContactEvent', 'VCC_MostSerChargeinContactEvent_regardlessofFinalDisp', 'VCCPrefix_MostSerChargeinCharge_regardlessofFinalDisp', 'VCCClassification_MostSerChargeinCharge_regardlessofFinalDisp', 'VCC_SecondOffenseType_ifany', 'VCC_ThirdOffenseType_ifany', 'VCC_FourthOffenseType_ifany', 'VCC_FifthOffenseType_ifany', 'VCC_SixthOffenseType_ifany', 'VCC_SeventhOffenseType_ifany', 'VCC_EightOffenseType_ifany', 'VCC_NinthOffenseType_ifany', 'VCC_TenthOffenseType_ifany', 'CodeSection_MostSerChargeinContactEvent_regardlessofFinalDisp', 'CodeSection_SecondOffenseType_ifany', 'CodeSection_ThirdOffenseType_ifany', 'CodeSection_FourthOffenseType_ifany', 'CodeSection_FifthOffenseType_ifany', 'CodeSection_SixthOffenseType_ifany', 'CodeSection_SeventhOffenseType_ifany', 'CodeSection_EightOffenseType_ifany', 'CodeSection_NinthOffenseType_ifany', 'CodeSection_TenthOffenseType_ifany', 'CaseType_MostSerChargeinContactEvent_regardlessofFinalDisp', 'CaseType_SecondOffenseType_ifany', 'CaseType_ThirdOffenseType_ifany', 'CaseType_FourthOffenseType_ifany', 'CaseType_FifthOffenseType_ifany', 'CaseType_SixthOffenseType_ifany', 'CaseType_SeventhOffenseType_ifany', 'CaseType_EightOffenseType_ifany', 'CaseType_NinthOffenseType_ifany', 'CaseType_TenthOffenseType_ifany', 'OffenseCounts_MostSerChargeinContactEvent_regardlessofFinalDisp', 'OffenseCounts_SecondOffenseType_ifany', 'OffenseCounts_ThirdOffenseType_ifany', 'OffenseCounts_FourthOffenseType_ifany', 'OffenseCounts_FifthOffenseType_ifany', 'OffenseCounts_SixthOffenseType_ifany', 'OffenseCounts_SeventhOffenseType_ifany', 'OffenseCounts_EightOffenseType_ifany', 'OffenseCounts_NinthOffenseType_ifany', 'OffenseCounts_TenthOffenseType_ifany', 'CurrentCharge_FelDrugLarFraud', 'CurrentCharge_FelDrug', 'CurrentCharge_MisdDrug', 'CurrentCharge_VPRAIViolent', 'CurrentCharge_PSAViolent', 'CurrentCharge_PSAViolentAgeLT21Yrs', 'VCC_MostSerCharge_resultinginsentencing', 'VCCPrefix_MostSerCharge_resultinginsentencing', 'VCCClassification_MostSerCharge_resultinginsentencing', 'CodeSection_MostSerCharge', 'CaseType_MostSerCharge', 'MAG_BailType', 'MAG_BailAmount', 'MAG_Cond_AvoidAllContact', 'MAG_Cond_MaintainCommEduc', 'MAG_Cond_ComplywithCurfew', 'MAG_Cond_HomeElecIncar', 'MAG_Cond_AccompOfficer', 'MAG_Cond_RefrainAlcohol', 'MAG_Cond_RefrainContolSub', 'MAG_Cond_RefrainWeapon', 'MAG_Cond_MaintSeekEmp', 'MAG_Cond_SubmitDrugAlcoholScr', 'MAG_Cond_SubmitDrugAlcoholTest', 'MAG_Cond_MonitorGPS', 'PTCC_RecFound', 'PTCC_AddlRecFound', 'PTCC_ServerName', 'PTCC_RefType', 'PTCC_PretrialSupPlacement', 'PTCC_TypePlacement', 'PTCC_DateFirstActive', 'PTCC_JudicialOfficerType', 'PTCC_CourtLocality', 'PTCC_CourtType', 'PTCC_ReferralDate', 'PTCC_PlacementDate', 'PTCC_PlacementType', 'PTCC_TransferredIn', 'PTCC_CourtReinstatement', 'PTCC_BondType', 'PTCC_JudicialAction', 'PTCC_PlacementRiskLevel', 'PTCC_OrigBondType', 'PTCC_CurrBondType', 'PTCC_OrigChargeBondAmt', 'PTCC_ChargeBondAmt', 'PTCC_Screening_OrigBondType', 'PTCC_Screening_CurrBondType', 'PTCC_Screening_OrigChargeBondAmt', 'PTCC_Screening_ChargeBondAmt', 'PTCC_PlaceRiskAsmtMostSeriousChargeCat', 'PTCC_PlacementStatusatDataExtract', 'PTCC_PendingClosedInd', 'PTCC_SupervisionDys', 'PTCC_CondOrdered', 'PTCC_Cond_ReporttoPT', 'PTCC_Cond_ExcessAlcDrugs', 'PTCC_Cond_SubmitTesting', 'PTCC_Cond_RefrainFirearm', 'PTCC_Cond_NoContactVic', 'PTCC_Cond_MaintSeekEmp', 'PTCC_Cond_MaintSeekEduc', 'PTCC_Cond_ComplywithCurfew', 'PTCC_Cond_ElecMonitoring', 'PTCC_Cond_RestrictTravel', 'PTCC_ResQ_PriorMisd', 'PTCC_ResQ_PriorFel', 'PTCC_ResQ_PriorNumViolConv', 'PTCC_ResQ_PriorFTAs', 'PTCC_ResQ_PriorFTAOverTwoYrs', 'PTCC_ResQ_PriorSenttoIncar', 'PTCC_VPRAI_ActiveSupervision', 'PTCC_VPRAI_FelDrugTheftFraud', 'PTCC_VPRAI_PendingCharge', 'PTCC_VPRAI_CrimHistory', 'PTCC_VPRAI_TwoFTAs', 'PTCC_VPRAI_TwoViolConv', 'PTCC_VPRAI_EmpStatus', 'PTCC_VPRAI_LastGradeComp', 'PTCC_PraxisApplies', 'PTCC_PraxisSupLevel', 'PTCC_AssignedSupLevel', 'PTCC_SupViolation', 'PendingChargeatTimeofContactEvent_VPRAIdefinition', 'PendingChargeatTimeofContactEvent_VPRAI_FTAdefinition', 'PendingChargeatTimeofContactEvent_VPRAI_NotFTAdefinition', 'PendingChargeatTimeofContactEvent_PSAdefinition', 'AgeatFirstAdultArrest', 'PriorArrests', 'PriorArrests_Fel', 'PriorArrests_Misd', 'PriorArrests_Misd_InclNonJailable', 'PriorArrests_DomAsl', 'PriorArrests_FelProbSSVViol', 'PriorArrests_MisdProbSSVViol', 'PriorConvictions_Any', 'PriorConvs_AdultOnly', 'PriorConvs_Past2Yrs', 'PriorConvs_Past5Yrs', 'PriorConvs_Fel', 'PriorConvs_Fel_Past2Yrs', 'PriorConvs_Fel_Past5Yrs', 'PriorConvs_Misd', 'PriorConvs_Misd_Past2Yrs', 'PriorConvs_Misd_Past5Yrs', 'PriorConvs_Misd_InclNonJailable', 'PriorConvs_Misd_CrimTraf', 'PriorConvs_DomAsl', 'PriorConvs_FelProbSSVViol', 'PriorConvs_MisdProbSSVViol', 'PriorDrugConvs_NonMJDist_Fel', 'PriorDrugConvs_NonMJDist_Misd', 'PriorDrugConvs_NonMJPoss_Fel', 'PriorDrugConvs_NonMJPoss_Misd', 'PriorDrugConvs_MJDist_Fel', 'PriorDrugConvs_MJDist_Misd', 'PriorDrugConvs_MJPoss', 'PriorDrugConvs_UnkDrugDist_Fel', 'PriorDrugConvs_UnkDrugPoss_Fel', 'PriorDrugConvs_TypeNotClear_Fel', 'PriorDrugConvs_TypeNotClear_Misd', 'PriorAlcConvs', 'PriorFTACharges', 'PriorFTACharges_Past2Yrs', 'PriorFTACharges_MoreThan2Yrs', 'PriorFTAConvs', 'PriorFTAConvs_Past2Yrs', 'PriorFTAConvs_MoreThan2Yrs', 'PriorVPRAIViolArrests', 'PriorVPRAIViolArrests_Fel', 'PriorVPRAIViolArrests_Misd', 'PriorVPRAIViolArrests_DomAsl', 'PriorVPRAIViolArrests_Past2Yrs', 'PriorVPRAIViolArrests_Past5Yrs', 'PriorVPRAIViolConvs', 'PriorVPRAIViolConvs_Fel', 'PriorVPRAIViolConvs_Misd', 'PriorVPRAIViolConvs_DomAsl', 'PriorVPRAIViolConvs_Past2Yrs', 'PriorVPRAIViolConvs_Past5Yrs', 'PriorPSAViolArrests', 'PriorPSAViolArrests_Fel', 'PriorPSAViolArrests_Misd', 'PriorPSAViolArrests_DomAsl', 'PriorPSAViolArrests_Past2Yrs', 'PriorPSAViolArrests_Past5Yrs', 'PriorPSAViolConvs', 'PriorPSAViolConvs_Fel', 'PriorPSAViolConvs_Misd', 'PriorPSAViolConvs_DomAsl', 'PriorPSAViolConvs_Past2Yrs', 'PriorPSAViolConvs_Past5Yrs', 'Prior805ViolArrests', 'Prior805ViolArrests_Past2Yrs', 'Prior805ViolArrests_Past5Yrs', 'Prior805ViolConvs', 'Prior805ViolConvs_Past2Yrs', 'Prior805ViolConvs_Past5Yrs', 'Prior297ViolArrests', 'Prior297ViolArrests_Past2Yrs', 'Prior297ViolArrests_Past5Yrs', 'Prior297ViolConvs', 'Prior297ViolConvs_Past2Yrs', 'Prior297ViolConvs_Past5Yrs', 'PriorConvs_FelPerson', 'PriorConvs_FelProperty', 'PriorConvs_FelDrug', 'PriorConvs_FelOther', 'PriorConvs_Fel_SameType', 'PriorConvs_Misd_SameType', 'PriorProbRevocations_Felony', 'PriorProbRevocations_Misd', 'PriorSentEvents_Fel', 'PriorSentEvents_FelProbRevocations', 'PriorSentEvents_MisdProbRevocations', 'PriorSentEvents_FTA', 'PriorIncarEvents_GE14Dys', 'PriorIncarEvents_LT1Yr', 'PriorIncarEvents_GE1Yr', 'Defendant_WhetherOnStateProbationAtTimeofContactEvent', 'Defendant_WhetherOnLocalProbationAtTimeofContactEvent', 'VPRAI_Factor_ActiveCommSup', 'VPRAI_Factor_CurrentFelDrugLarFraud', 'VPRAI_Factor_PendingCharge', 'VPRAI_Factor_AdultCriminalConv', 'VPRAI_Factor_FTAs', 'VPRAI_Factor_ViolentConvs', 'VPRAI_Factor_Unemployed_Opt1', 'VPRAI_Factor_Unemployed_Opt2', 'VPRAI_Factor_PTUnemployment', 'VPRAI_TotalPoints_Opt1', 'VPRAI_RiskLevel_Opt1', 'VPRAI_TotalPoints_Opt2', 'VPRAI_RiskLevel_Opt2', 'VPRAI_PTPlacementRiskLevel', 'VPRAI_DifferenceinRiskLevel_Unemployed', 'PSA_FTA_Factor_PendingCharge', 'PSA_FTA_Factor_PriorConviction', 'PSA_FTA_Factor_PriorFTAPast2Yrs', 'PSA_FTA_Factor_PriorFTAMoreThan2Yrs', 'PSA_FTA_TotalPoints', 'PSA_FTA_RiskLevelScale', 'PSA_NCA_Factor_AgeatArrest', 'PSA_NCA_Factor_PendingCharge', 'PSA_NCA_Factor_PriorMisdConv', 'PSA_NCA_Factor_PriorFelConv', 'PSA_NCA_Factor_PriorViolConv', 'PSA_NCA_Factor_PriorFTAPast2Yrs', 'PSA_NCA_Factor_PriorIncar', 'PSA_NCA_TotalPoints', 'PSA_NCA_RiskLevelScale', 'PSA_NVCA_Factor_CurrentViolOff', 'PSA_NVCA_Factor_CurrentViolOff20orYounger', 'PSA_NVCA_Factor_PendingCharge', 'PSA_NVCA_Factor_PriorConviction', 'PSA_NVCA_Factor_PriorViolConv', 'PSA_NVCA_TotalPoints', 'PSA_NVCA_WhetherAssignedFlag', 'Locality_FIPS', 'Locality_Name', 'Locality_Region', 'Locality_JudicialCircuit', 'Locality_JudicialDistrict', 'Locality_MagisterialRegion', 'Locality_PublicDefenderOfficePresence', 'Locality_PretrialServicesAgencyPresence', 'TotalPopulationEstimate_2017_Census', 'Populationdensity_persquaremile_2010Census', 'UnemploymentRate_October2017_BureauofLaborStatistics', 'TotalSwornLawEnforcementOfficers_2017_VSPCrimeinVirginia', 'GiniIndex', 'WhiteAlone_PopulationEstimate_2017_Census', 'WhiteAlonePercentage_PopulationEstimate_2017_Census', 'AfricanAmericanAlone_PopulationEstimate_2017_Census', 'AfricanAmericanAlonepercentage_PopulationEstimate_2017', 'AsianAlone_PopulationEstimate_2017_Census', 'AsianAlonepercentage_PopulationEstimate_2017_Census', 'OtherRacesAlone_PopulationEstimate_2017_Census', 'OtherRacesAlonepercentge_PopulationEstimate_2017_Census', 'Twoormoreraces_PopulationEstimate_2017_Census', 'Twoormoreracespercentage_PopulationEstimate_2017_Census', 'HispanicOrigin_PopulationEstimate_2017_Census', 'BothSexes_MedianAge_2017Census', 'Male_MedianAge_2017Census', 'Female_MedianAge_2017Census', 'TotalMalePopulationEstimate_2017_Census', 'Under5years_Malepopulation_2017Census', '@5to9years_Malepopulation_2017Census', '@10to14years_Malepopulation_2017Census', '@15to19years_Malepopulation_2017Census', '@20to24years_Malepopulation_2017Census', '@25to29years_Malepopulation_2017Census', '@30to34years_Malepopulation_2017Census', '@35to39years_Malepopulation_2017Census', '@40to44years_Malepopulation_2017Census', '@45to49years_Malepopulation_2017Census', '@50to54years_Malepopulation_2017Census', '@55to59years_Malepopulation_2017Census', '@60to64years_Malepopulation_2017Census', '@65to69years_Malepopulation_2017Census', '@70to74years_Malepopulation_2017Census', '@75to79_Malepopulation_2017Census', '@80to84years_Malepopulation_2017Census', '@85yearsandover_Malepopulation_2017Census', 'Under18years_Malepopulation_2017Census', '@18to64years_Malepopulation_2017Census', '@65yearsandover_Malepopulation_2017Census', '@18yearsandover_Malepopulation_2017Census', 'TotalFemalePopulationEstimate_2017Census', 'Under5years_Femalepopulation_2017Census', '@5to9years_Femalepopulation_2017Census', '@10to14years_Femalepopulation_2017Census', '@15to19years_Femalepopulation_2017Census', '@20to24years_Femalepopulation_2017Census', '@25to29years_Femalepopulation_2017Census', '@30to34years_Femalepopulation_2017Census', '@35to39years_Femalepopulation_2017Census', '@40to44years_Femalepopulation_2017Census', '@45to49years_Femalepopulation_2017Census', '@50to54years_Femalepopulation_2017Census', '@55to59years_Femalepopulation_2017Census', '@60to64years_Femalepopulation_2017Census', '@65to69years_Femalepopulation_2017Census', '@70to74years_Femalepopulation_2017Census', '@75to79years_Femalepopulation_2017Census', '@80to84years_Femalepopulation_2017Census', '@85yearsandover_Femalepopulation_2017Census', 'Under18years_Femalepopulation_2017Census', '@18to64years_Femalepopulation_2017Census', '@65yearsandover_Femalepopulation_2017Census', '@18yearsandover_Femalepopulation_2017Census', 'TotalMALEANDFEMALEPopulation_2017Census', 'Under5years_TotalPopulation_2017Census', '@5to9years_TotalPopulation_2017Census', '@10to14years_TotalPopulation_2017Census', '@15to19years_TotalPopulation_2017Census', '@20to24years_TotalPopulation_2017Census', '@25to29years_TotalPopulation_2017Census', '@30to34years_TotalPopulation_2017Census', '@35to39years_TotalPopulation_2017Census', '@40to44years_TotalPopulation_2017Census', '@45to49years_TotalPopulation_2017Census', '@50to54years_TotalPopulation_2017Census', '@55to59years_TotalPopulation_2017Census', '@60to64years_TotalPopulation_2017Census', '@65to69years_TotalPopulation_2017Census', '@70to74years_TotalPopulation_2017Census', '@75to79years_TotalPopulation_2017Census', '@80to84years_TotalPopulation_2017Census', '@85yearsandover_TotalPopulation_2017Census', 'Under18years_TotalPopulation_2017Census', '@18to64years_TotalPopulation_2017Census', '@65yearsandover_TotalPopulation_2017Census', '@18yearsandover_TotalPopulation_2017Census', 'Totalhouseholds_occupied_2017Census_A', 'Percenthighschoolgraduateorhigher_2017Census', 'Percentbachelorsdegreeorhigher_2017Census', 'TotalCivilianNoninstitutionalizedPopulation_2017Census', 'TotalCivilianNoninstitutionalizedPopulation_Withadisability', 'PercentofTotalCivilianNoninstitutionalizedPopulation_Witha', 'Estimate_RESIDENCE1YEARAGO_Population1yearandover_2017Ce', 'EstimateRESIDENCE1YEARAGO_Population1yearandover_Sameh', 'Percent_RESIDENCE1YEARAGO_Population1yearandover_Samehou', 'Totalpopulation_Native_2017Census', 'PercentTotalpopulation_Native_2017Census', 'Totalpopulation_Foreignborn_2017Census', 'PercentTotalpopulation_Foreignborn_2017Census', 'Foreignbornpopulation_2017Census', 'Foreignbornpopulation_NaturalizedU.S.citizen_2017Census', 'PercentForeignbornpopulation_NaturalizedU.S.citizen_2017Cen', 'Foreignbornpopulation_NotaU.S.citizen_2017Census', 'PercentForeignbornpopulation_NotaU.S.citizen_2017Census', 'Population5yearsandover_2017Census', 'Population5yearsandover_Englishonly_2017Census', 'PercentPopulation5yearsandover_Englishonly_2017Census', 'Totalhouseholds_Withacomputer_2017Census', 'PercentTotalhouseholds_Withacomputer_2017Census', 'Totalhouseholds_WithabroadbandInternetsubscription_2017Cen', 'PercentTotalhouseholds_WithabroadbandInternetsubscription', 'Totalhousingunits_2017Census', 'Totaloccupiedhousingunits_2017Census', 'Occupiedhousingunits_2017Census', 'TotalVacantHousingUnits_2017Census', 'Percentvacanthousingunits_2017Census', 'TotalHomeowndervacanyrate_2017Census', 'Totalrentalvacanyrate_2017Census', 'TotalOwneroccupiedhousingunits_2017Census', 'Percentowneroccupiedhousingunits_2017Census', 'Totalrenteroccupiedhousingunits_2017Census', 'Percentrenteroccupiedhousingunits_2017Census', 'Percentpopulationhighschoolgraduateorhigher_2017Census', 'Percentpopulationbachelorsdegreeorhigher_2017Census', 'Totalhouseholds_occupied_2017Census', 'Totalhouseholds_Lessthan$10000inincome_2017Census', 'PercentTotalhouseholds_Lessthan$10000inincome_2017Census', 'Totalhouseholds$10000to$14999inincome_2017Census', 'PercentTotalhouseholds$10000to$14999inincome_2017Censu', 'Totalhouseholds$15000to$24999inincome_2017Census', 'PercentTotalhouseholds$15000to$24999inincome_2017Censu', 'Totalhouseholds$25000to$34999inincome_2017Census', 'PercentTotalhouseholds$25000to$34999inincome_2017Censu', 'Totalhouseholds$35000to$49999inincome_2017Census', 'PercentTotalhouseholds$35000to$49999inincome_2017Censu', 'Totalhouseholds$50000to$74999inincome_2017Census', 'PercentTotalhouseholds$50000to$74999inincome_2017Censu', 'Totalhouseholds$75000to$99999inincome_2017Census', 'PercentTotalhouseholds$75000to$99999inincome_2017Censu', 'Totalhouseholds$100000to$149999inincome_2017Census', 'PercentTotalhouseholds$100000to$149999inincome_2017Cen', 'Totalhouseholds$150000to$199999inincome_2017Census', 'PercentTotalhouseholds$150000to$199999inincome_2017Cen', 'Totalhouseholds$200000ormoreinincome_2017Census', 'PercentTotalhouseholds$200000ormoreinincome_2017Census', 'TotalhouseholdsMedianhouseholdincomeindollars_2017Census', 'TotalhouseholdsMeanhouseholdincomeindollars_2017Census', 'TotalWithcashpublicassistanceincome_2017Census', 'PercentWithcashpublicassistanceincome_2017Census', 'Meancashpublicassistanceincomeindollars_2017Census', 'TotalWithFoodStamp_SNAPbenefitsinthepast12months_2017C', 'PercentWithFoodStamp_SNAPbenefitsinthepast12months_2017', 'Families_Medianfamilyincomeindollars_2017Census', 'Families_Meanfamilyincomeindollars_2017Census', 'Percapitaincomeindollars_2017Census', 'Medianearningsforworkersindollars_2017Census', 'TotalCiviliannoninstitutionalizedpopulation_Nohealthinsura', 'PercentCiviliannoninstitutionalizedpopulation_Nohealthinsur', 'TotalCiviliannoninstitutionalizedpopulation19to64yearsIn', 'PercentCiviliannoninstitutionalizedpopulation19to64years_A', 'TotalCiviliannoninstitutionalizedpopulation19to64yearsNo', 'PercentCiviliannoninstitutionalizedpopulation19to64years', 'PERCENTAGEOFFAMILIESANDPEOPLEWHOSEINCOMEINTHEPAST12MO_D', 'PERCENTAGEOFFAMILIESANDPEOPLEWHOSEINCOMEINTHEPAST12MO_C', 'PERCENTAGEOFFAMILIESANDPEOPLEWHOSEINCOMEINTHEPAST12MO_B', 'PERCENTAGEOFFAMILIESANDPEOPLEWHOSEINCOMEINTHEPAST12MO_A', 'PERCENTAGEOFFAMILIESANDPEOPLEWHOSEINCOMEINTHEPAST12MO', 'Population_VSP2017Report', 'Incidentrateper1000population_VSP2017Report', 'TotalIncidentsReportedinLocality_VSP2017Report', 'MurderNonnegligentManslaughter_TotalReportedOffenses_VSP201', 'KidnappingAbduction_TotalReportedOffenses_VSP2017Report', 'RapeTotalReportedOffenses_VSP2017Report', 'OtherForcibleSexOffenses_TotalReportedOffenses_VSP2017Rep', 'RobberyTotalReportedOffenses_VSP2017Report', 'Agg.Assault_TotalReportedOffenses_VSP2017Report', 'SimpleAssaultIntimidation_TotalReportedOffenses_VSP2017Rep', 'ArsonTotalReportedOffenses_VSP2017Report', 'ExtortionBlackmailTotalReportedOffenses_VSP2017Report', 'BurglaryTotalReportedOffenses_VSP2017Report', 'Larceny_TotalReportedOffenses_VSP2017Report', 'MotorVehicleTheftTotalReportedOffenses_VSP2017Report', 'Counterfeiting_ForgeryTotalReportedOffenses_VSP2017Report', 'Fraud_TotalReportedOffenses_VSP2017Report', 'EmbezzlementTotalReportedOffenses_VSP2017Report', 'StolenPropertyTotalReportedOffenses_VSP2017Report', 'Destruction_VandalismTotalReportedOffenses_VSP2017Report', 'Drug_NarcoticsTotalReportedOffenses_VSP2017Report', 'NonForcibleSexOffensesTotalReportedOffenses_VSP2017Report', 'PornographyTotalReportedOffenses_VSP2017Report', 'GamblingTotalReportedOffenses_VSP2017Report', 'ProstitutionTotalReportedOffenses_VSP2017Report', 'BriberyTotalReportedOffenses_VSP2017Report', 'WeaponsLawViolationTotalReportedOffenses_VSP2017Report', 'TotalCrimesAgainstthePerson_ReportedOffenses_VSP2017Repor', 'TotalCrimesAgainstProperty_OffensesReported_VSP2017Report', 'TotalCrimesAgainstSociety_OffensesReported_VSP2017Report', 'ViolentCrime_OffensesReported_VSPDefinition_VSP2017Report', 'PropertyCime_OffensesReported_VSPDefinition_VSP2017Report', 'MurderNonnegligentManslaughterADULTArrests_VSP2017Report', 'Kidnapping_AbductionArrestsADULTArrests_VSP2017Report', 'RapeADULTArrests_VSP2017Report', 'OtherForcibleSexoffensesADULTArrests_VSP2017Report', 'RobberyADULTArrests_VSP2017Report', 'AggravatedAssaultADULTArrests_VSP2017Report', 'SimpleAssault_IntimidationADULTArrests_VSP2017Report', 'ArsonADULTArrests_VSP2017Report', 'Extortion_BlackmailADULTArrests_VSP2017Report', 'BurglaryADULTArrests_VSP2017Report', 'LarcenyADULTArrests_VSP2017Report', 'MotorVehicleTheftADULTArrests_VSP2017Report', 'Counterfeiting_ForgeryADULTArrests_VSP2017Report', 'FraudADULTArrests_VSP2017Report', 'EmbezzlementADULTArrests_VSP2017Report', 'StolenPropertyADULTArrests_VSP2017Report', 'Destruction_VandalismADULTArrests_VSP2017Report', 'Drug_NarcoticsADULTArrests_VSP2017Report', 'NonForcibleSexOffensesADULTArrests_VSP2017Report', 'PornographyADULTArrests_VSP2017Report', 'GamblingADULTArrests_VSP2017Report', 'ProstitutionADULTArrests_VSP2017Report', 'BriberyADULTArrests_VSP2017Report', 'WeaponslawviolationsADULTArrests_VSP2017Report', 'TotalGroupAADULTArrests_VSP2017Report', 'BadchecksADULTArrests_VSP2017Report', 'Curfew_Loitering_VagrancyViolationsADULTArrests_VSP2017Repo', 'DisorderlyConductADULTArrests_VSP2017Report', 'DUIADULTArrests_VSP2017Report', 'Drunkenness_DIP_ADULTArrests_VSP2017Report', 'FamilyOffenses_NonviolentADULTArrests_VSP2017Report', 'LiquorLawViolationsADULTArrests_VSP2017Report', 'PeepingTomADULTArrests_VSP2017Report', 'RunawayADULTArrests_VSP2017Report', 'TrespassofRealPropertyADULTArrests_VSP2017Report', 'ConspiracytoCommitADULTArrests_VSP2017Report', 'AllOtherOffensesADULTArrests_VSP2017Report', 'TotalGroupBArrestsADULTArrests_VSP2017Report', 'GrandTotalADULTArrests_VSP2017Report', 'FinalDispositionAllCharges_v1', 'FinalDispositionAllCharges_v2', 'FinalDispositionDateAllChargesInContactEvent', 'DaysBetweenReleaseandFinalDispositionDate', 'SentenceTypeAllChargesAtConvictionInContactEvent', 'ImposedSentenceAllChargeInContactEvent', 'EffectiveSentenceAllChargesInContactEvent', 'DispositionDate_MostSeriousChargeInContactEvent', 'VCC_MostSeriousConvictioninContactEvent', 'VCCPrefix_MostSeriousConvictioninContactEvent', 'VCCClassification_MostSeriousConvictioninContactEvent', 'CodeSection_MostSeriousConvictioninContactEvent', 'CaseType_MostSeriousConvictioninContactEvent', 'Description_MostSeriousConvictioninContactEvent', 'SentenceTypeMostSeriousConvictionInContactEvent', 'ImposedSentenceMostSeriousConvictionInContactEvent', 'EffectiveSentenceMostSeriousConvictionInContactEvent', 'FollowUp_ChargedWithNewFTA', 'NewFTA_VCC', 'NewFTA_Type', 'NewFTA_OffDate', 'NewFTA_ArrestDate', 'NewFTA_DaysBetweenContactEventAndOffDate', 'NewFTA_DaysBetweenOffDateAndArrestDate', 'NewFTA_DaysBetweenReleaseDateAndOffDate', 'NewFTA_Disposition', 'FollowUp_ArrestedforNewOff', 'NewArrest_VCC', 'NewArrest_VCCPrefix', 'NewArrest_VCCClassification', 'NewArrest_Type', 'NewArrest_OffDate', 'NewArrest_ArrestDate', 'NewArrest_DaysBetweenContactEventandOffDate', 'NewArrest_DaysBetweenOffDateAndArrestDate', 'NewArrest_DaysBetweenReleaseDateAndOffDate', 'NewArrest_Disposition', 'FollowUp_ArrestedForNewOffPunishableByIncarceration', 'NewArrestPunishableByIncarceration_VCC', 'NewArrestPunishableByIncarceration_VCCPrefix', 'NewArrestPunishableByIncarceration_VCCClassification', 'NewArrestPunishableByIncarceration_Type', 'NewArrestPunishableByIncarceration_OffDate', 'NewArrestPunishableByIncarceration_ArrestDate', 'NewArrestPunishableByIncar_DaysBetweenContactEventandOffDate', 'NewArrestPunishableByIncar_DaysBetweenOffDateAndArrestDate', 'NewArrestPunishableByIncar_DaysBetweenReleaseDateAndOffDate', 'NewArrestPunishableByIncarceration_Disposition', 'FollowUp_NewFelonyArrest', 'NewFelonyArrest_VCC', 'NewFelonyArrest_VCCPrefix', 'NewFelonyArrest_VCCClassification', 'NewFelonyArrest_Type', 'NewFelonyArrest_OffDate', 'NewFelonyArrest_ArrestDate', 'NewFelonyArrest_DaysBetweenContactEventandOffDate', 'NewFelonyArrest_DaysBetweenOffDateAndArrestDate', 'NewFelonyArrest_DaysBetweenReleaseDateAndOffDate', 'NewFelonyArrest_Disposition', 'FollowUp_NewMisdemeanorArrestPunishableByIncarceration', 'NewMisdArrestPunishableByIncarceration_VCC', 'NewMisdArrestPunishableByIncarceration_VCCPrefix', 'NewMisdArrestPunishableByIncarceration_VCCClassification', 'NewMisdArrestPunishableByIncarceration_Type', 'NewMisdArrestPunishableByIncarceration_OffDate', 'NewMisdArrestPunishableByIncarceration_ArrestDate', 'NewMisdArrestPunishableByIncar_DaysBetweenContactEventandOffDate', 'NewMisdArrestPunishableByIncar_DaysBetweenOffDateAndArrestDate', 'NewMisdArrestPunishableByIncar_DaysBetweenReleaseDateAndOffDate', 'NewMisdArrestPunishableByIncar_Disposition', 'FollowUp_NewVPRAIViolentArrest', 'NewVPRAIViolentArrest_VCC', 'NewVPRAIViolentArrest_VCCPrefix', 'NewVPRAIViolentArrest_VCCClassification', 'NewVPRAIViolentArrest_Type', 'NewVPRAIViolentArrest_OffDate', 'NewVPRAIViolentArrest_ArrestDate', 'NewVPRAIViolentArrest_DaysBetweenContactEventandOffDate', 'NewVPRAIViolentArrest_DaysBetweenOffDateandArrestDate', 'NewVPRAIViolentArrest_DaysBetweenReleaseDateandOffDate', 'NewVPRAIViolentArrest_Disposition', 'FollowUp_NewVPRAIViolentFelonyArrest', 'NewVPRAIViolentFelonyArrest_VCC', 'NewVPRAIViolentFelonyArrest_Type', 'NewVPRAIViolentFelonyArrest_OffDate', 'NewVPRAIViolentFelonyArrest_ArrestDate', 'NewVPRAIViolentFelonyArrest_DaysBetweenContactEventandOffDate', 'NewVPRAIViolentFelonyArrest_DaysBetweenOffDateandArrestDate', 'NewVPRAIViolentFelonyArrest_DaysBetweenReleaseDateandOffDate', 'NewVPRAIViolentFelonyArrest_Disposition', 'FollowUp_NewVPRAIViolentMisdemeanorArrest', 'NewVPRAIViolentMisdArrest_VCC', 'NewVPRAIViolentMisdArrest_Type', 'NewVPRAIViolentMisdArrest_OffDate', 'NewVPRAIViolentMisdArrest_ArrestDate', 'NewVPRAIViolentMisdArrest_DaysBetweenContactEventandOffDate', 'NewVPRAIViolentMisdArrest_DaysBetweenOffDateandArrestDate', 'NewVPRAIViolentMisdArrest_DaysBetweenReleaseDateandOffDate', 'NewVPRAIViolentMisdArrest_Disposition', 'FollowUp_NewPSAViolentArrest', 'NewPSAViolentArrest_VCC', 'NewPSAViolentArrest_VCCPrefix', 'NewPSAViolentArrest_VCCClassification', 'NewPSAViolentArrest_Type', 'NewPSAViolentArrest_OffDate', 'NewPSAViolentArrest_ArrestDate', 'NewPSAViolentArrest_DaysBetweenContactEventandOffDate', 'NewPSAViolentArrest_DaysBetweenOffDateandArrestDate', 'NewPSAViolentArrest_DaysBetweenReleaseDateandOffDate', 'NewPSAViolentArrest_Disposition', 'FollowUp_NewPSAViolentFelonyArrest', 'NewPSAViolentFelonyArrest_VCC', 'NewPSAViolentFelonyArrest_Type', 'NewPSAViolentFelonyArrest_OffDate', 'NewPSAViolentFelonyArrest_ArrestDate', 'NewPSAViolentFelonyArrest_DaysBetweenContactEventandOffDate', 'NewPSAViolentFelonyArrest_DaysBetweenOffDateandArrestDate', 'NewPSAViolentFelonyArrest_DaysBetweenReleaseDateandOffDate', 'NewPSAViolentFelonyArrest_Disposition', 'FollowUp_NewPSAViolentMisdemeanorArrest', 'NewPSAViolentMisdArrest_VCC', 'NewPSAViolentMisdArrest_Type', 'NewPSAViolentMisdArrest_OffDate', 'NewPSAViolentMisdArrest_ArrestDate', 'NewPSAViolentMisdArrest_DaysBetweenContactEventandOffDate', 'NewPSAViolentMisdArrest_DaysBetweenOffDateandArrestDate', 'NewPSAViolentMisdArrest_DaysBetweenReleaseDateandOffDate', 'NewPSAViolentMisdArrest_Disposition', 'FollowUp_NewVaCode805ViolentOff', 'NewVaCode805ViolentOff_VCC', 'NewVaCode805ViolentOff_VCCPrefix', 'NewVaCode805ViolentOff_VCCClassification', 'NewVaCode805ViolentOff_Type', 'NewVaCode805ViolentOff_OffDate', 'NewVaCode805ViolentOff_ArrestDate', 'NewVaCode805ViolentOff_DaysBetweenContactEventandOffDate', 'NewVaCode805ViolentOff_DaysBetweenOffDateandArrestDate', 'NewVaCode805ViolentOff_DaysBetweenReleaseDateandOffDate', 'NewVaCode805ViolentOff_Disposition', 'FollowUp_NewVaCode297ViolentOff', 'NewVaCode297ViolentOff_VCC', 'NewVaCode297ViolentOff_VCCPrefix', 'NewVaCode297ViolentOff_VCCClassification', 'NewVaCode297ViolentOff_Type', 'NewVaCode297ViolentOff_OffDate', 'NewVaCode297ViolentOff_ArrestDate', 'NewVaCode297ViolentOff_DaysBetweenContactEventandOffDate', 'NewVaCode297ViolentOff_DaysBetweenOffDateandArrestDate', 'NewVaCode297ViolentOff_DaysBetweenReleaseDateandOffDate', 'NewVaCode297ViolentOff_Disposition', 'FollowUp_NewFelonySexualAssaultArrest', 'NewFelonySexualAssaultArrest_VCC', 'NewFelonySexualAssaultArrest_Type', 'NewFelonySexualAssaultArrest_OffDate', 'NewFelonySexualAssaultArrest_ArrestDate', 'NewFelonySexualAssaultArrest_DaysBetweenContactEventandOffDate', 'NewFelonySexualAssaultArrest_DaysBetweenOffDateandArrestDate', 'NewFelonySexualAssaultArrest_DaysBetweenReleaseDateandOffDate', 'NewFelonySexualAssaultArrest_Disposition', 'Intertnalindicator_ReasonforExcludingFromFollowUpAnalysis', 'CriminalHistoryRecordsReturnedorCMSRecordsFoundforIndividual', 'DispRecordFoundforChargesinOct2017Contact_Atleast1dispfound', 'CrimeCommission2021ReportClassificationofDefendants']\n",
            "[9 0 1] \n",
            "\n",
            "WhetherDefendantWasReleasedPretrial\n",
            "1    19154\n",
            "0     3801\n",
            "9       31\n",
            "Name: count, dtype: int64 \n",
            "\n",
            "WhetherDefendantWasReleasedPretrial\n",
            "1.0    19154\n",
            "0.0     3801\n",
            "Name: count, dtype: int64 \n",
            "\n",
            "31\n"
          ]
        }
      ]
    },
    {
      "cell_type": "markdown",
      "source": [
        "When cleaning the WhetherDefendantWasReleasedPretrial variable, I realized that there are three of the uunique values [9, 0, 1], so I replaced the 9s with NaNs. Before cleaning, I got 31 of the value 9s. After cleaning, I only left with 1s and 0s. I replaced all of the 31 9s with NaNs.\n",
        "\n"
      ],
      "metadata": {
        "id": "zpYZJcAysj0B"
      },
      "id": "zpYZJcAysj0B"
    },
    {
      "cell_type": "code",
      "source": [
        "# Question 1 part 4\n",
        "#convert to numeric\n",
        "df3['ImposedSentenceAllChargeInContactEvent'] = pd.to_numeric(df3['ImposedSentenceAllChargeInContactEvent'], errors='coerce')\n",
        "\n",
        "#If SentenceType = 9, there is no valid sentencing information, so I set the corresponding imposed sentence to NaN\n",
        "df3.loc[df3['SentenceTypeAllChargesAtConvictionInContactEvent'] == 9, 'ImposedSentenceAllChargeInContactEvent'] = np.nan\n",
        "\n",
        "#Ensure That Sentence Length Matches Sentence Type, for example:\n",
        "# If SentenceType = 0 (Probation/No Incarceration) → Imposed sentence should be 0 months\n",
        "# If SentenceType = 1 (Jail ≤ 12 months) → Imposed sentence should be between 1 and 12 months\n",
        "df3.loc[df3['SentenceTypeAllChargesAtConvictionInContactEvent'] == 0, 'ImposedSentenceAllChargeInContactEvent'] = 0\n",
        "df3.loc[(df3['SentenceTypeAllChargesAtConvictionInContactEvent'] == 1) &\n",
        "       (df3['ImposedSentenceAllChargeInContactEvent'] > 12), 'ImposedSentenceAllChargeInContactEvent'] = np.nan\n",
        "df3.loc[(df3['SentenceTypeAllChargesAtConvictionInContactEvent'] == 2) &\n",
        "       (df3['ImposedSentenceAllChargeInContactEvent'] < 12), 'ImposedSentenceAllChargeInContactEvent'] = np.nan\n",
        "df3.loc[df3['SentenceTypeAllChargesAtConvictionInContactEvent'] == 4, 'ImposedSentenceAllChargeInContactEvent'] = np.nan\n",
        "# By doing this, it corrects any mismatch between sentence type and sentence length.\n",
        "\n",
        "#Some imposed sentence values appear as small decimals (e.g., 0.98 months).\n",
        "#Since sentences are typically recorded in whole numbers (months), I round all values below 1 month to 1 month, assuming they should be whole numbers.\n",
        "df3['ImposedSentenceAllChargeInContactEvent'] = df3['ImposedSentenceAllChargeInContactEvent'].apply(\n",
        "    lambda x: round(x) if pd.notnull(x) and x < 1 else x)\n",
        "\n",
        "#check the cleaned dataset\n",
        "print(df3[['SentenceTypeAllChargesAtConvictionInContactEvent', 'ImposedSentenceAllChargeInContactEvent']])"
      ],
      "metadata": {
        "colab": {
          "base_uri": "https://localhost:8080/"
        },
        "id": "Up1zL3XTsZbO",
        "outputId": "0074384a-ddf6-4842-b176-c4f671965944"
      },
      "id": "Up1zL3XTsZbO",
      "execution_count": 25,
      "outputs": [
        {
          "output_type": "stream",
          "name": "stdout",
          "text": [
            "       SentenceTypeAllChargesAtConvictionInContactEvent  \\\n",
            "0                                                     9   \n",
            "1                                                     0   \n",
            "2                                                     1   \n",
            "3                                                     1   \n",
            "4                                                     4   \n",
            "...                                                 ...   \n",
            "22981                                                 4   \n",
            "22982                                                 9   \n",
            "22983                                                 4   \n",
            "22984                                                 4   \n",
            "22985                                                 4   \n",
            "\n",
            "       ImposedSentenceAllChargeInContactEvent  \n",
            "0                                         NaN  \n",
            "1                                         0.0  \n",
            "2                                        12.0  \n",
            "3                                         1.0  \n",
            "4                                         NaN  \n",
            "...                                       ...  \n",
            "22981                                     NaN  \n",
            "22982                                     NaN  \n",
            "22983                                     NaN  \n",
            "22984                                     NaN  \n",
            "22985                                     NaN  \n",
            "\n",
            "[22986 rows x 2 columns]\n"
          ]
        }
      ]
    },
    {
      "cell_type": "markdown",
      "source": [
        "To clean the dataset, I first converted the ImposedSentenceAllChargeInContactEvent column to a numeric format, ensuring that non-numeric values were replaced with NaN. Next, I addressed cases where SentenceTypeAllChargesAtConvictionInContactEvent had a value of 9, which indicates missing or unknown sentencing information, by setting the corresponding imposed sentence values to NaN. I then enforced logical consistency by ensuring that cases classified as probation (type 0) had an imposed sentence of 0 months, cases under jail (type 1) had sentences between 1 and 12 months, and cases under prison (type 2) had sentences of at least 12 months. Any records where the sentence type suggested dismissal, deferral, or pending status (type 4) were also set to NaN. Additionally, I rounded small floating-point values (e.g., 0.98 months) to the nearest whole number, assuming that sentences are recorded in full months."
      ],
      "metadata": {
        "id": "0xaQ3qlWsca4"
      },
      "id": "0xaQ3qlWsca4"
    },
    {
      "cell_type": "markdown",
      "id": "5a60a44e",
      "metadata": {
        "id": "5a60a44e"
      },
      "source": [
        "**Q2.** Go to https://sharkattackfile.net/ and download their dataset on shark attacks.\n",
        "\n",
        "1. Open the shark attack file using Pandas. It is probably not a csv file, so `read_csv` won't work.\n",
        "2. Drop any columns that do not contain data.\n",
        "3. Clean the year variable. Describe the range of values you see. Filter the rows to focus on attacks since 1940. Are attacks increasing, decreasing, or remaining constant over time?\n",
        "4. Clean the Age variable and make a histogram of the ages of the victims.\n",
        "5. What proportion of victims are male?\n",
        "6. Clean the `Type` variable so it only takes three values: Provoked and Unprovoked and Unknown. What proportion of attacks are unprovoked?\n",
        "7. Clean the `Fatal Y/N` variable so it only takes three values: Y, N, and Unknown.\n",
        "8. Are sharks more likely to launch unprovoked attacks on men or women? Is the attack more or less likely to be fatal when the attack is provoked or unprovoked? Is it more or less likely to be fatal when the victim is male or female? How do you feel about sharks?\n",
        "9. What proportion of attacks appear to be by white sharks? (Hint: `str.split()` makes a vector of text values into a list of lists, split by spaces.)"
      ]
    },
    {
      "cell_type": "code",
      "source": [
        "#question 2\n",
        "import pandas as pd\n",
        "import numpy as np\n",
        "import seaborn as sns\n",
        "\n",
        "# Load the Excel file\n",
        "dfq2 = pd.read_excel('/content/GSAF5.xls')\n",
        "# Display the first few rows\n",
        "dfq2.head()\n",
        "\n",
        "# Q2 part 2: Drop columns that do not contain data\n",
        "dfq2 = dfq2.drop(columns=['pdf', 'href formula', 'href', 'Case Number', 'Case Number.1', 'original order', 'Unnamed: 21', 'Unnamed: 22'])\n",
        "\n",
        "print(dfq2)"
      ],
      "metadata": {
        "colab": {
          "base_uri": "https://localhost:8080/"
        },
        "id": "JbzxqZtgtZkI",
        "outputId": "7f1c2176-6aa1-42f2-9e69-4307895b1237"
      },
      "id": "JbzxqZtgtZkI",
      "execution_count": 2,
      "outputs": [
        {
          "output_type": "stream",
          "name": "stdout",
          "text": [
            "                     Date    Year        Type             Country  \\\n",
            "0     2025-01-11 00:00:00  2025.0    Provoked                 USA   \n",
            "1     2025-01-02 00:00:00  2025.0  Unprovoked       New Caledonia   \n",
            "2     2025-01-02 00:00:00  2025.0  Unprovoked           Australia   \n",
            "3     2024-12-29 00:00:00  2024.0  Unprovoked               Egypt   \n",
            "4     2024-12-29 00:00:00  2024.0  Unprovoked               Egypt   \n",
            "...                   ...     ...         ...                 ...   \n",
            "6985          Before 1903     0.0  Unprovoked           AUSTRALIA   \n",
            "6986          Before 1903     0.0  Unprovoked           AUSTRALIA   \n",
            "6987            1900-1905     0.0  Unprovoked                 USA   \n",
            "6988            1883-1889     0.0  Unprovoked              PANAMA   \n",
            "6989            1845-1853     0.0  Unprovoked  CEYLON (SRI LANKA)   \n",
            "\n",
            "                    State                                 Location  \\\n",
            "0                  Hawaii            Off Haleiwa Boat Harbour Oahu   \n",
            "1            Grande Terre              Islet of Kendek near Koumac   \n",
            "2         South Australia  Granites Beach near Westall Streaky Bay   \n",
            "3     North of Marsa Alam                                  Red Sea   \n",
            "4     North of Marsa Alam                                  Red Sea   \n",
            "...                   ...                                      ...   \n",
            "6985    Western Australia                              Roebuck Bay   \n",
            "6986    Western Australia                                      NaN   \n",
            "6987       North Carolina                           Ocracoke Inlet   \n",
            "6988                  NaN                     Panama Bay 8ºN, 79ºW   \n",
            "6989     Eastern Province      Below the English fort, Trincomalee   \n",
            "\n",
            "          Activity                                    Name Sex  Age  \\\n",
            "0           Diving  Male not stated was a dive tour worker   M   23   \n",
            "1     Spearfishing                        Robert Cuewapuru   M   40   \n",
            "2          Surfing                           Lance Appleby   M   28   \n",
            "3     SCUBA Diving                         Peppino Fappani   M   69   \n",
            "4     SCUBA Diving                       Gianluca Di Gioia   M   48   \n",
            "...            ...                                     ...  ..  ...   \n",
            "6985        Diving                                    male   M  NaN   \n",
            "6986  Pearl diving                                   Ahmun   M  NaN   \n",
            "6987      Swimming                   Coast Guard personnel   M  NaN   \n",
            "6988           NaN                         Jules Patterson   M  NaN   \n",
            "6989      Swimming                                    male   M   15   \n",
            "\n",
            "                                                 Injury Fatal Y/N     Time  \\\n",
            "0                                     Bitten on the arm         N  1340hrs   \n",
            "1     Severe arm injury and delay in medical treatme...         Y   1615hr   \n",
            "2                                    Body not recovered         Y   1710hr   \n",
            "3       Injuries to stomach preventing attack on friend         N        ?   \n",
            "4     Entire calf muscle removed and bitten both arm...         Y        ?   \n",
            "...                                                 ...       ...      ...   \n",
            "6985                                              FATAL         Y      NaN   \n",
            "6986                                              FATAL         Y      NaN   \n",
            "6987                                              FATAL         Y      NaN   \n",
            "6988                                              FATAL         Y      NaN   \n",
            "6989  FATAL. \"Shark bit him in half, carrying away t...         Y      NaN   \n",
            "\n",
            "                                    Species   \\\n",
            "0                                 Not stated   \n",
            "1             Reportedly Tiger or Bull shark   \n",
            "2     Great White Shart estimated 4.8m 16 ft   \n",
            "3                   Reportedly a Tiger Shark   \n",
            "4                   Reportedly a Tiger Shark   \n",
            "...                                      ...   \n",
            "6985                                     NaN   \n",
            "6986                                     NaN   \n",
            "6987                                     NaN   \n",
            "6988                                     NaN   \n",
            "6989                                     NaN   \n",
            "\n",
            "                                                 Source  \n",
            "0                     Kevin McMurray Trackingsharks.com  \n",
            "1                         Johannes Marchand Todd Smith   \n",
            "2     Glen Folkard: Simon De Marchi News.com.au: The...  \n",
            "3     Todd Smith : Kevin McMurray Trackingsharks .co...  \n",
            "4     Todd Smith : Kevin McMurray Trackingsharks .co...  \n",
            "...                                                 ...  \n",
            "6985                   H. Taunton; N. Bartlett,  p. 234  \n",
            "6986              H. Taunton; N. Bartlett,  pp. 233-234  \n",
            "6987               F. Schwartz, p.23; C. Creswell, GSAF  \n",
            "6988                                The Sun, 10/20/1938  \n",
            "6989                                         S.W. Baker  \n",
            "\n",
            "[6990 rows x 15 columns]\n"
          ]
        }
      ]
    },
    {
      "cell_type": "code",
      "source": [
        "# Q2 part 3\n",
        "import pandas as pd\n",
        "\n",
        "# Convert 'Year' column to numeric, setting errors='coerce' to turn invalid entries into NaN\n",
        "dfq2['Year'] = pd.to_numeric(dfq2['Year'], errors='coerce')\n",
        "# Replace 0000 (unknown years) with NaN\n",
        "dfq2.loc[dfq2['Year'] == 0, 'Year'] = pd.NA\n",
        "# Remove NaN values in the 'Year' column\n",
        "dfnew = dfq2.dropna(subset=['Year'])\n",
        "# Convert 'Year' to integer type (to avoid float issues)\n",
        "dfnew['Year'] = dfnew['Year'].astype('Int64')\n",
        "\n",
        "# Describe the range of years\n",
        "min_year = dfnew['Year'].min()\n",
        "max_year = dfnew['Year'].max()\n",
        "print(f\"Year range: {min_year} to {max_year}\")\n",
        "# So I got that the year range from 0005 to 2026 after removing all the NaN (0000).\n",
        "\n",
        "# Filter attacks since 1940\n",
        "dfnew_filtered = dfnew[dfnew['Year'] >= 1940]\n",
        "# Count the number of cases per year\n",
        "yearly_counts = dfnew_filtered.groupby('Year').size().reset_index(name='Count')\n",
        "print(yearly_counts)\n",
        "print(yearly_counts.tail(20))\n",
        "\n",
        "# creating a line chart to see the trend of shark attacks\n",
        "import matplotlib.pyplot as plt\n",
        "# Plot the trend of attacks over time\n",
        "plt.figure(figsize=(12, 6))\n",
        "plt.plot(yearly_counts['Year'], yearly_counts['Count'], marker='o', linestyle='-')\n",
        "# Formatting the plot\n",
        "plt.xlabel(\"Year\")\n",
        "plt.ylabel(\"Number of Attacks\")\n",
        "plt.title(\"Trend of Attacks Over Time (Since 1940)\")\n",
        "plt.grid(True)\n",
        "# Show the plot\n",
        "plt.show()\n",
        "\n",
        "# From the plot, we can clearly see that the number of shark attacks is increasing from 1940 to 2015.\n",
        "# There is a sudden drop in shark attack after the year 2023."
      ],
      "metadata": {
        "colab": {
          "base_uri": "https://localhost:8080/",
          "height": 1000
        },
        "id": "dfnoFadD1aMH",
        "outputId": "c33d71db-0059-42ff-d845-976f8dd12388"
      },
      "id": "dfnoFadD1aMH",
      "execution_count": 3,
      "outputs": [
        {
          "output_type": "stream",
          "name": "stderr",
          "text": [
            "<ipython-input-3-e0a5fe0d905c>:11: SettingWithCopyWarning: \n",
            "A value is trying to be set on a copy of a slice from a DataFrame.\n",
            "Try using .loc[row_indexer,col_indexer] = value instead\n",
            "\n",
            "See the caveats in the documentation: https://pandas.pydata.org/pandas-docs/stable/user_guide/indexing.html#returning-a-view-versus-a-copy\n",
            "  dfnew['Year'] = dfnew['Year'].astype('Int64')\n"
          ]
        },
        {
          "output_type": "stream",
          "name": "stdout",
          "text": [
            "Year range: 5 to 2026\n",
            "    Year  Count\n",
            "0   1940     24\n",
            "1   1941     27\n",
            "2   1942     41\n",
            "3   1943     28\n",
            "4   1944     31\n",
            "..   ...    ...\n",
            "82  2022     98\n",
            "83  2023    109\n",
            "84  2024     49\n",
            "85  2025      4\n",
            "86  2026      1\n",
            "\n",
            "[87 rows x 2 columns]\n",
            "    Year  Count\n",
            "67  2007    113\n",
            "68  2008    122\n",
            "69  2009    120\n",
            "70  2010    101\n",
            "71  2011    128\n",
            "72  2012    117\n",
            "73  2013    122\n",
            "74  2014    126\n",
            "75  2015    143\n",
            "76  2016    131\n",
            "77  2017    140\n",
            "78  2018    124\n",
            "79  2019    114\n",
            "80  2020    101\n",
            "81  2021    109\n",
            "82  2022     98\n",
            "83  2023    109\n",
            "84  2024     49\n",
            "85  2025      4\n",
            "86  2026      1\n"
          ]
        },
        {
          "output_type": "display_data",
          "data": {
            "text/plain": [
              "<Figure size 1200x600 with 1 Axes>"
            ],
            "image/png": "[encoded data removed]"
          },
          "metadata": {}
        }
      ]
    },
    {
      "cell_type": "code",
      "source": [
        " # Q2 part 5\n",
        "dfq2['Age'] = pd.to_numeric(dfq2['Age'], errors='coerce')   #coerce the \"Age\" variable to numeric\n",
        "dfq2['Age'].hist(bins=20) #historgam"
      ],
      "metadata": {
        "colab": {
          "base_uri": "https://localhost:8080/",
          "height": 448
        },
        "id": "3_eC_UYBK8vX",
        "outputId": "a2126d8e-1851-472f-b5de-5c665e21fe88"
      },
      "id": "3_eC_UYBK8vX",
      "execution_count": 4,
      "outputs": [
        {
          "output_type": "execute_result",
          "data": {
            "text/plain": [
              "<Axes: >"
            ]
          },
          "metadata": {},
          "execution_count": 4
        },
        {
          "output_type": "display_data",
          "data": {
            "text/plain": [
              "<Figure size 640x480 with 1 Axes>"
            ],
            "image/png": "[encoded data removed]"
          },
          "metadata": {}
        }
      ]
    },
    {
      "cell_type": "code",
      "source": [
        " # Q2 part 5\n",
        "import pandas as pd\n",
        "import numpy as np\n",
        "\n",
        "# remove strip spaces from values:' M', 'M ')\n",
        "dfq2['Sex'] = dfq2['Sex'].astype(str).str.strip()\n",
        "print(dfq2['Sex'].unique())\n",
        "\n",
        "#Replace incorrect values with NAN\n",
        "dfq2['Sex'] = dfq2['Sex'].replace({'lli': np.nan, 'M x 2': 'M'})\n",
        "print(dfq2['Sex'].unique())\n",
        "#output: ['M' 'F' 'nan' nan]\n",
        "\n",
        "#remove 'nan'\n",
        "dfq2['Sex'] = dfq2['Sex'].replace({'nan': np.nan})\n",
        "print(dfq2['Sex'].unique())\n",
        "#output: ['M' 'F' nan]\n",
        "\n",
        "male_proportion = (dfq2['Sex'] == 'M').mean()\n",
        "print(male_proportion)\n",
        "\n",
        "# The proportion of male is 0.8033... (80%)"
      ],
      "metadata": {
        "colab": {
          "base_uri": "https://localhost:8080/"
        },
        "id": "MVFtdwxA5B0N",
        "outputId": "2197da5e-aa20-408b-c86e-21544efa52ae"
      },
      "id": "MVFtdwxA5B0N",
      "execution_count": 7,
      "outputs": [
        {
          "output_type": "stream",
          "name": "stdout",
          "text": [
            "['M' 'F' 'nan' 'lli' 'M x 2' 'N' '.']\n",
            "['M' 'F' 'nan' nan 'N' '.']\n",
            "['M' 'F' nan 'N' '.']\n",
            "0.8032904148783977\n"
          ]
        }
      ]
    },
    {
      "cell_type": "code",
      "source": [
        "# Q2 part 6\n",
        "\n",
        "import numpy as np\n",
        "\n",
        "# Clean the Type column so it only contains 'Provoked', 'Unprovoked', or 'Unknown'\n",
        "dfq2['Type'] = np.where(dfq2['Type'].isin(['Provoked', 'Unprovoked']), dfq2['Type'], 'Unknown')\n",
        "\n",
        "# Display cleaned data\n",
        "print(dfq2[['Type']].value_counts())  # Count occurrences of each category\n",
        "# I got 5151 'Unprovoked', 1202 'Unknown' and 637 'Provoked'.\n",
        "\n",
        "# Proportion of Unprovoked\n",
        "Prop = 5151/(5151+1202+637)\n",
        "print(Prop)\n",
        "# Proportion of Unprovoked is 0.7369... (74%)"
      ],
      "metadata": {
        "colab": {
          "base_uri": "https://localhost:8080/"
        },
        "id": "DeHIzorEEB6q",
        "outputId": "999ef88b-5a61-4af3-a137-87d9e2d55810"
      },
      "id": "DeHIzorEEB6q",
      "execution_count": 72,
      "outputs": [
        {
          "output_type": "stream",
          "name": "stdout",
          "text": [
            "Type      \n",
            "Unprovoked    5151\n",
            "Unknown       1202\n",
            "Provoked       637\n",
            "Name: count, dtype: int64\n",
            "0.7369098712446351\n"
          ]
        }
      ]
    },
    {
      "cell_type": "code",
      "source": [
        "# Q2 part 7\n",
        "import numpy as np\n",
        "\n",
        "dfq2['Fatal Y/N'] = dfq2['Fatal Y/N'].astype(str).str.strip()\n",
        "print(dfq2['Fatal Y/N'].value_counts())\n",
        "\n",
        "dfq2['Fatal Y/N'] = dfq2['Fatal Y/N'].replace(['F','M','2017','nan','Nq','Y x 2','y'],np.nan)\n",
        "dfq2['Fatal Y/N'] = dfq2['Fatal Y/N'].replace('n','N')\n",
        "print(dfq2['Fatal Y/N'].value_counts())"
      ],
      "metadata": {
        "colab": {
          "base_uri": "https://localhost:8080/"
        },
        "id": "zaKaeJraF3VS",
        "outputId": "ca20f340-1f0b-48f8-e3a3-c6b3d38b3aa4"
      },
      "id": "zaKaeJraF3VS",
      "execution_count": 10,
      "outputs": [
        {
          "output_type": "stream",
          "name": "stdout",
          "text": [
            "Fatal Y/N\n",
            "N          4879\n",
            "Y          1468\n",
            "nan         571\n",
            "UNKNOWN      71\n",
            "y             1\n",
            "Name: count, dtype: int64\n",
            "Fatal Y/N\n",
            "N          4879\n",
            "Y          1468\n",
            "UNKNOWN      71\n",
            "Name: count, dtype: int64\n"
          ]
        }
      ]
    },
    {
      "cell_type": "code",
      "source": [
        "# Q2 part 8\n",
        "import pandas as pd\n",
        "\n",
        "# Filter for only 'Unprovoked' attacks\n",
        "unprovoked_attacks = dfq2[dfq2['Type'] == 'Unprovoked']\n",
        "\n",
        "# Count occurrences of 'M' and 'F' in unprovoked attacks\n",
        "unprovoked_by_sex = unprovoked_attacks.groupby('Sex').size().reset_index(name='Count')\n",
        "print(unprovoked_by_sex)\n",
        "# There are 670 F and 4309 M in unprovoked attacks. So there are more males in unprovoked attacks.\n",
        "\n",
        "\n",
        "# Count occurrences of 'Y' and 'N' in unprovoked attacks\n",
        "unprovoked_by_fatality= unprovoked_attacks.groupby('Fatal Y/N').size().reset_index(name='Count')\n",
        "print(unprovoked_by_fatality)\n",
        "# There are 3815 N and 1251 Y in unprovoked attacks. So there are more fatals in unprovoked attacks.\n",
        "\n",
        "# Filter for only 'Provoked' attacks\n",
        "provoked_attacks = dfq2[dfq2['Type'] == 'Provoked']\n",
        "# Count occurrences of 'Y' and 'N' in provoked attacks\n",
        "provoked_by_fatality= provoked_attacks.groupby('Fatal Y/N').size().reset_index(name='Count')\n",
        "print(provoked_by_fatality)\n",
        "# There are 605 N and 20 Y in provoked attacks. So it is less likely to be fatal in provoked attacks.\n",
        "\n",
        "# Filter for only Y\n",
        "Fatal = dfq2[dfq2['Fatal Y/N'] == 'Y']\n",
        "# Count occurrences of 'M' and 'F' in Y\n",
        "fatality_rate = Fatal.groupby('Sex').size().reset_index(name='Count')\n",
        "# Display results\n",
        "print(fatality_rate)\n",
        "# There are 120 F and 1239 M that are fatal. So there are more males that are fatal.\n"
      ],
      "metadata": {
        "colab": {
          "base_uri": "https://localhost:8080/"
        },
        "id": "afyxUYw2Gp3p",
        "outputId": "8241911a-9f1c-4aa3-85f4-5c8a84204c88"
      },
      "id": "afyxUYw2Gp3p",
      "execution_count": 84,
      "outputs": [
        {
          "output_type": "stream",
          "name": "stdout",
          "text": [
            "  Sex  Count\n",
            "0   F    670\n",
            "1   M   4309\n",
            "  Fatal Y/N  Count\n",
            "0         N   3815\n",
            "1   Unknown     85\n",
            "2         Y   1251\n",
            "  Fatal Y/N  Count\n",
            "0         N    605\n",
            "1   Unknown     12\n",
            "2         Y     20\n",
            "  Sex  Count\n",
            "0   F    120\n",
            "1   M   1239\n"
          ]
        }
      ]
    },
    {
      "cell_type": "code",
      "source": [
        "# Q2 part 9\n",
        "import pandas as pd\n",
        "\n",
        "# Strip spaces from all column names as I realized the column 'Species ' has a space\n",
        "dfq2.rename(columns=lambda x: x.strip(), inplace=True)\n",
        "\n",
        "# Verify that 'Species' is now correct\n",
        "print(dfq2.columns)\n",
        "# Convert 'Species' column to lowercase for consistency\n",
        "dfq2['Species'] = dfq2['Species'].astype(str).str.lower()\n",
        "# Count total number of attacks\n",
        "total_attacks = len(dfq2)\n",
        "# Count occurrences of 'white shark' in the Species column\n",
        "white_shark_attacks = dfq2['Species'].str.contains('white shark', na=False).sum()\n",
        "\n",
        "# Calculate proportion of attacks by white sharks\n",
        "white_shark_proportion = white_shark_attacks / total_attacks\n",
        "\n",
        "# Display results\n",
        "print(f\"Total Attacks: {total_attacks}\")\n",
        "print(f\"White Shark Attacks: {white_shark_attacks}\")\n",
        "print(f\"Proportion of White Shark Attacks: {white_shark_proportion:.2%}\")\n"
      ],
      "metadata": {
        "colab": {
          "base_uri": "https://localhost:8080/"
        },
        "id": "BYFxyNAkJ7ut",
        "outputId": "afb106a0-d967-409b-f436-297739b5ead2"
      },
      "id": "BYFxyNAkJ7ut",
      "execution_count": 89,
      "outputs": [
        {
          "output_type": "stream",
          "name": "stdout",
          "text": [
            "Index(['Date', 'Year', 'Type', 'Country', 'State', 'Location', 'Activity',\n",
            "       'Name', 'Sex', 'Age', 'Injury', 'Fatal Y/N', 'Time', 'Species',\n",
            "       'Source'],\n",
            "      dtype='object')\n",
            "Total Attacks: 6990\n",
            "White Shark Attacks: 700\n",
            "Proportion of White Shark Attacks: 10.01%\n"
          ]
        }
      ]
    },
    {
      "cell_type": "markdown",
      "id": "5735a4d4-8be8-433a-a351-70eb8002e632",
      "metadata": {
        "id": "5735a4d4-8be8-433a-a351-70eb8002e632"
      },
      "source": [
        "**Q3.** Open the \"tidy_data.pdf\" document in the repo, which is a paper called Tidy Data by Hadley Wickham.\n",
        "\n",
        "  1. Read the abstract. What is this paper about?\n",
        "  2. Read the introduction. What is the \"tidy data standard\" intended to accomplish?\n",
        "  3. Read the intro to section 2. What does this sentence mean: \"Like families, tidy datasets are all alike but every messy dataset is messy in its own way.\" What does this sentence mean: \"For a given dataset, it’s usually easy to figure out what are observations and what are variables, but it is surprisingly difficult to precisely define variables and observations in general.\"\n",
        "  4. Read Section 2.2. How does Wickham define values, variables, and observations?\n",
        "  5. How is \"Tidy Data\" defined in section 2.3?\n",
        "  6. Read the intro to Section 3 and Section 3.1. What are the 5 most common problems with messy datasets? Why are the data in Table 4 messy? What is \"melting\" a dataset?\n",
        "  7. Why, specifically, is table 11 messy but table 12 tidy and \"molten\"?\n",
        "  8. Read Section 6. What is the \"chicken-and-egg\" problem with focusing on tidy data? What does Wickham hope happens in the future with further work on the subject of data wrangling?"
      ]
    },
    {
      "cell_type": "markdown",
      "source": [
        "1. This paper highlights an essential component of data cleaning: data tidying. Tidy data is structured in a straightforward manner, where each variable corresponds to a column, each observation occupies a row, and each type of observational unit is organized into a table. This structured approach streamlines the processing of messy datasets and facilitates the creation of efficient data analysis tools. The abstract defines data tidying, explains its benefits, and presents a case study illustrating its practical advantages.\n",
        "\n",
        "2. The introduction explains that the tidy data standard offers a consistent method for organizing data values within a dataset. This standard is designed to support the initial exploration and analysis of data while also streamlining the development of data analysis tools that integrate effectively. As a result, it simplifies the overall data analysis process.\n",
        "\n",
        "3. The sentence \"Like families, tidy datasets are all alike but every messy dataset is messy in its own way.\" means that tidy datasets follow a uniform, well-structured format, making them easy to work with. In contrast, messy datasets can be disorganized in many different ways, requiring unique cleaning approaches for each case. Tidy data establishes a consistent relationship between a dataset’s structure (its layout) and its semantics (its meaning), making analysis more straightforward. However, messy data can violate these principles in different ways, such as having column headers that represent values instead of variable names or storing multiple variables within a single column. This variation in disorganization is why each messy dataset requires a different cleaning strategy.\n",
        "\n",
        "The sentence \"Like families, tidy datasets are all alike but every messy dataset is messy in its own way.\" means that tidy datasets follow a uniform, well-structured format, making them easy to work with. In contrast, messy datasets can be disorganized in many different ways, requiring unique cleaning approaches for each case. Tidy data establishes a consistent relationship between a dataset’s structure (its layout) and its semantics (its meaning), making analysis more straightforward. However, messy data can violate these principles in different ways, such as having column headers that represent values instead of variable names or storing multiple variables within a single column. This variation in disorganization is why each messy dataset requires a different cleaning strategy.\n",
        "\n",
        "4. A dataset is a collection of values, which can be either numerical or categorical (strings). Each value is associated with both a variable and an observation. A variable consists of a set of values that measure the same characteristic or property, such as texture, color, shape. An observation is a collection of values that describe a specific instance or case within the dataset.\n",
        "\n",
        "5. Tidy data provides a standardized method for organizing a dataset by aligning its structure with its meaning. Whether a dataset is considered tidy or messy depends on how rows, columns, and tables correspond to observations, variables, and data types. In a tidy dataset:  \n",
        "\n",
        "Each variable is represented as a column.  \n",
        "Each observation is represented as a row.  \n",
        "Each type of observational unit is organized into a separate table.\n",
        "\n",
        "6.\n",
        "This section outlines five common issues found in messy datasets and their solutions:1 Column headers are values, not variable names. 2 Multiple variables are stored in one column. 3 Variables are stored in both rows and columns. 4 Multiple types of observational units are stored in the same table. 5 A single observational unit is stored in multiple tables.\n",
        "\n",
        "In Table 4, the dataset is messy because its column headers contain values rather than variable names. As noted in the text, a frequent cause of messy data is tabular formats designed for presentation, where variables appear in both rows and columns, and column headers store values instead of meaningful variable names.\n",
        "\n",
        "Referencing from the article:\n",
        "\n",
        "Melting is a process that restructures a dataset by selecting certain columns as fixed variables (colvars), while converting the remaining columns into two new variables—one for column headings and another for data values.\n",
        "\n",
        "In the case of Table 4, melting would transform income ranges (which are currently column headers) into a single \"income\" column, while creating another column, \"freq,\" to store the corresponding values. This restructuring makes the data tidy and easier to analyze.\n",
        "\n",
        "7.\n",
        "Table 11 is considered messy because the days are used as column headers instead of being represented as a single \"date\" variable. This structure complicates data manipulation and analysis.  \n",
        "\n",
        "Table 12(a) is molten, meaning the days have been consolidated into a single \"date\" column, improving organization. However, it is still not fully tidy because the \"element\" column contains variable names (tmax, tmin) rather than actual data values.  \n",
        "\n",
        "Table 12(b) achieves a tidy format because each row represents a single day's observation, and each variable—date, tmax, and tmin—is assigned its own column. This proper structuring makes the dataset easier to analyze.\n",
        "\n",
        "\n",
        "8. The chicken-and-egg problem with tidy data refers to the idea that its usefulness is directly tied to the tools designed to work with it. This creates a cycle where tidy tools and tidy data become closely interconnected. If people adopt tidy data primarily because of tools like ggplot2 and dplyr, as mentioned in the article, then the concept might seem like just a way to promote these tools rather than a fundamental approach to data organization. However, Wickham envisions tidy data as more than just a framework tied to specific tools. He hopes it will influence the broader philosophy of data cleaning and organization. He acknowledges this by stating that while he does not see tidy data as the final solution, he hopes others will build upon it to develop even better data storage strategies and tools. This highlights his goal for tidy data to serve as an inspiration for new ideas, tools, and best practices in data science rather than being limited to existing software.\n",
        "\n"
      ],
      "metadata": {
        "id": "_XBxrEqbM7QI"
      },
      "id": "_XBxrEqbM7QI"
    },
    {
      "cell_type": "markdown",
      "id": "649494cd-cfd6-4f80-992a-9994fc19e1d5",
      "metadata": {
        "id": "649494cd-cfd6-4f80-992a-9994fc19e1d5"
      },
      "source": [
        "**Q4.** Many important datasets contain a race variable, typically limited to a handful of values often including Black, White, Asian, Latino, and Indigenous. This question looks at data gathering efforts on this variable by the U.S. Federal government.\n",
        "\n",
        "1. How did the most recent US Census gather data on race?\n",
        "2. Why do we gather these data? What role do these kinds of data play in politics and society? Why does data quality matter?\n",
        "3. Please provide a constructive criticism of how the Census was conducted: What was done well? What do you think was missing? How should future large scale surveys be adjusted to best reflect the diversity of the population? Could some of the Census' good practices be adopted more widely to gather richer and more useful data?\n",
        "4. How did the Census gather data on sex and gender? Please provide a similar constructive criticism of their practices.\n",
        "5. When it comes to cleaning data, what concerns do you have about protected characteristics like sex, gender, sexual identity, or race? What challenges can you imagine arising when there are missing values? What good or bad practices might people adopt, and why?\n",
        "6. Suppose someone invented an algorithm to impute values for protected characteristics like race, gender, sex, or sexuality. What kinds of concerns would you have?"
      ]
    }
  ],
  "metadata": {
    "colab": {
      "provenance": []
    },
    "kernelspec": {
      "display_name": "Python 3 (ipykernel)",
      "language": "python",
      "name": "python3"
    },
    "language_info": {
      "codemirror_mode": {
        "name": "ipython",
        "version": 3
      },
      "file_extension": ".py",
      "mimetype": "text/x-python",
      "name": "python",
      "nbconvert_exporter": "python",
      "pygments_lexer": "ipython3",
      "version": "3.10.4"
    }
  },
  "nbformat": 4,
  "nbformat_minor": 5
}